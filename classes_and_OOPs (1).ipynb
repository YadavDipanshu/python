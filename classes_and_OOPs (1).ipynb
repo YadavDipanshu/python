{
  "cells": [
    {
      "cell_type": "markdown",
      "metadata": {
        "id": "_GL3quPxjlvY"
      },
      "source": [
        "## Classes And OOPS"
      ]
    },
    {
      "cell_type": "markdown",
      "source": [],
      "metadata": {
        "id": "Mg-FXDMGlNN-"
      }
    },
    {
      "cell_type": "code",
      "execution_count": 6,
      "metadata": {
        "id": "9gO32Rz3jlva"
      },
      "outputs": [],
      "source": [
        "## Empty class\n",
        "class Person:\n",
        "    pass"
      ]
    },
    {
      "cell_type": "code",
      "execution_count": 7,
      "metadata": {
        "id": "cMp68Pezjlvb"
      },
      "outputs": [],
      "source": [
        "a=[1,2,3,4]"
      ]
    },
    {
      "cell_type": "code",
      "execution_count": 8,
      "metadata": {
        "id": "RR6jOUnUjlvb",
        "outputId": "7049c17c-a2e6-4539-8d4c-d4806bf4ec45",
        "colab": {
          "base_uri": "https://localhost:8080/"
        }
      },
      "outputs": [
        {
          "output_type": "execute_result",
          "data": {
            "text/plain": [
              "['__add__',\n",
              " '__class__',\n",
              " '__class_getitem__',\n",
              " '__contains__',\n",
              " '__delattr__',\n",
              " '__delitem__',\n",
              " '__dir__',\n",
              " '__doc__',\n",
              " '__eq__',\n",
              " '__format__',\n",
              " '__ge__',\n",
              " '__getattribute__',\n",
              " '__getitem__',\n",
              " '__gt__',\n",
              " '__hash__',\n",
              " '__iadd__',\n",
              " '__imul__',\n",
              " '__init__',\n",
              " '__init_subclass__',\n",
              " '__iter__',\n",
              " '__le__',\n",
              " '__len__',\n",
              " '__lt__',\n",
              " '__mul__',\n",
              " '__ne__',\n",
              " '__new__',\n",
              " '__reduce__',\n",
              " '__reduce_ex__',\n",
              " '__repr__',\n",
              " '__reversed__',\n",
              " '__rmul__',\n",
              " '__setattr__',\n",
              " '__setitem__',\n",
              " '__sizeof__',\n",
              " '__str__',\n",
              " '__subclasshook__',\n",
              " 'append',\n",
              " 'clear',\n",
              " 'copy',\n",
              " 'count',\n",
              " 'extend',\n",
              " 'index',\n",
              " 'insert',\n",
              " 'pop',\n",
              " 'remove',\n",
              " 'reverse',\n",
              " 'sort']"
            ]
          },
          "metadata": {},
          "execution_count": 8
        }
      ],
      "source": [
        "dir(a)"
      ]
    },
    {
      "cell_type": "code",
      "execution_count": 9,
      "metadata": {
        "id": "WxcjY5aEjlvc",
        "outputId": "8968b652-ddf7-4f91-ee47-2fb0735d0663",
        "colab": {
          "base_uri": "https://localhost:8080/"
        }
      },
      "outputs": [
        {
          "output_type": "stream",
          "name": "stdout",
          "text": [
            "[1, 2, 3, 4]\n"
          ]
        }
      ],
      "source": [
        "print(a)"
      ]
    },
    {
      "cell_type": "code",
      "execution_count": 10,
      "metadata": {
        "id": "wQsVX4mDjlvc"
      },
      "outputs": [],
      "source": [
        "a=list()"
      ]
    },
    {
      "cell_type": "code",
      "execution_count": 11,
      "metadata": {
        "id": "msH5Juc7jlvc",
        "outputId": "6c6676a1-2555-4a0c-f646-e3f7bd64d5ee",
        "colab": {
          "base_uri": "https://localhost:8080/"
        }
      },
      "outputs": [
        {
          "output_type": "execute_result",
          "data": {
            "text/plain": [
              "list"
            ]
          },
          "metadata": {},
          "execution_count": 11
        }
      ],
      "source": [
        "type(a)"
      ]
    },
    {
      "cell_type": "code",
      "execution_count": 12,
      "metadata": {
        "id": "RsQPkCsmjlvc"
      },
      "outputs": [],
      "source": [
        "#perosn1 iss  an object or instance\n",
        "person1=Person()"
      ]
    },
    {
      "cell_type": "code",
      "execution_count": 13,
      "metadata": {
        "id": "D8dvd6nojlvc",
        "outputId": "caa6e198-b42a-45a8-a504-891ec2de0869",
        "colab": {
          "base_uri": "https://localhost:8080/"
        }
      },
      "outputs": [
        {
          "output_type": "stream",
          "name": "stdout",
          "text": [
            "<__main__.Person object at 0x7edbac11e1a0>\n"
          ]
        }
      ],
      "source": [
        "print(person1)"
      ]
    },
    {
      "cell_type": "code",
      "execution_count": 14,
      "metadata": {
        "id": "c4P4FT1ljlvd"
      },
      "outputs": [],
      "source": [
        "person1.name=\"Mahipal\""
      ]
    },
    {
      "cell_type": "code",
      "execution_count": null,
      "metadata": {
        "id": "1jhT-D--jlvd",
        "outputId": "a2b12d9e-e485-4a7e-9c10-c5a0de97014a",
        "colab": {
          "base_uri": "https://localhost:8080/"
        }
      },
      "outputs": [
        {
          "output_type": "stream",
          "name": "stdout",
          "text": [
            "Mahipal\n"
          ]
        }
      ],
      "source": [
        "\n",
        "print(person1.name)"
      ]
    },
    {
      "cell_type": "code",
      "execution_count": 15,
      "metadata": {
        "id": "_bq_w8M3jlvd"
      },
      "outputs": [],
      "source": [
        "person1.lastname=\"Singh\""
      ]
    },
    {
      "cell_type": "code",
      "execution_count": 17,
      "metadata": {
        "id": "umeoJbk5jlvd"
      },
      "outputs": [],
      "source": [
        "person1=Person()"
      ]
    },
    {
      "cell_type": "code",
      "execution_count": 18,
      "metadata": {
        "id": "aU0JztKBjlvd",
        "outputId": "6c904686-a92b-431d-a51c-3ffb9360dd59",
        "colab": {
          "base_uri": "https://localhost:8080/"
        }
      },
      "outputs": [
        {
          "output_type": "execute_result",
          "data": {
            "text/plain": [
              "['__class__',\n",
              " '__delattr__',\n",
              " '__dict__',\n",
              " '__dir__',\n",
              " '__doc__',\n",
              " '__eq__',\n",
              " '__format__',\n",
              " '__ge__',\n",
              " '__getattribute__',\n",
              " '__gt__',\n",
              " '__hash__',\n",
              " '__init__',\n",
              " '__init_subclass__',\n",
              " '__le__',\n",
              " '__lt__',\n",
              " '__module__',\n",
              " '__ne__',\n",
              " '__new__',\n",
              " '__reduce__',\n",
              " '__reduce_ex__',\n",
              " '__repr__',\n",
              " '__setattr__',\n",
              " '__sizeof__',\n",
              " '__str__',\n",
              " '__subclasshook__',\n",
              " '__weakref__']"
            ]
          },
          "metadata": {},
          "execution_count": 18
        }
      ],
      "source": [
        "dir(person1)"
      ]
    },
    {
      "cell_type": "code",
      "execution_count": 19,
      "metadata": {
        "id": "7O52RraOjlve"
      },
      "outputs": [],
      "source": [
        "\n",
        "class Person:\n",
        "    def __init__(self,name1,last_name1):\n",
        "        self.name=name1\n",
        "        self.last_name=last_name1\n",
        "\n",
        "\n"
      ]
    },
    {
      "cell_type": "code",
      "execution_count": 20,
      "metadata": {
        "id": "flvvX04pjlve"
      },
      "outputs": [],
      "source": [
        "person=Person(\"Mahipal\",\"Singh\")"
      ]
    },
    {
      "cell_type": "code",
      "execution_count": 120,
      "metadata": {
        "id": "k6ahs6k1jlve",
        "outputId": "61ec0649-6ed9-420f-f567-e843834ce5e2",
        "colab": {
          "base_uri": "https://localhost:8080/"
        }
      },
      "outputs": [
        {
          "output_type": "stream",
          "name": "stdout",
          "text": [
            "Mahipal\n"
          ]
        }
      ],
      "source": [
        "print(person.name)"
      ]
    },
    {
      "cell_type": "code",
      "execution_count": 121,
      "metadata": {
        "id": "HKsHiW6Rjlve"
      },
      "outputs": [],
      "source": [
        "person2=Person(\"Gajanand\",\"yadav\")"
      ]
    },
    {
      "cell_type": "code",
      "execution_count": 23,
      "metadata": {
        "id": "f4cZ5SFUjlve",
        "outputId": "21f70c8e-2151-41a8-82bc-3a709cb75759",
        "colab": {
          "base_uri": "https://localhost:8080/",
          "height": 36
        }
      },
      "outputs": [
        {
          "output_type": "execute_result",
          "data": {
            "text/plain": [
              "'Gajanand'"
            ],
            "application/vnd.google.colaboratory.intrinsic+json": {
              "type": "string"
            }
          },
          "metadata": {},
          "execution_count": 23
        }
      ],
      "source": [
        "person2.name"
      ]
    },
    {
      "cell_type": "code",
      "execution_count": 24,
      "metadata": {
        "id": "vXHeVrs7jlve",
        "outputId": "39f35c37-fbe7-4b89-d539-acd2c0d52c4d",
        "colab": {
          "base_uri": "https://localhost:8080/"
        }
      },
      "outputs": [
        {
          "output_type": "execute_result",
          "data": {
            "text/plain": [
              "<__main__.Person at 0x7edbac11fc40>"
            ]
          },
          "metadata": {},
          "execution_count": 24
        }
      ],
      "source": [
        "person2"
      ]
    },
    {
      "cell_type": "code",
      "execution_count": 25,
      "metadata": {
        "id": "I8bvNcKejlvf",
        "outputId": "45e3ace5-6214-4c77-d00e-bffd8646c5f7",
        "colab": {
          "base_uri": "https://localhost:8080/",
          "height": 36
        }
      },
      "outputs": [
        {
          "output_type": "execute_result",
          "data": {
            "text/plain": [
              "'yadav'"
            ],
            "application/vnd.google.colaboratory.intrinsic+json": {
              "type": "string"
            }
          },
          "metadata": {},
          "execution_count": 25
        }
      ],
      "source": [
        "person2.last_name"
      ]
    },
    {
      "cell_type": "code",
      "execution_count": 26,
      "metadata": {
        "id": "POSImpdkjlvf"
      },
      "outputs": [],
      "source": [
        "class Person:\n",
        "    def __init__(self,name1,last_name1):\n",
        "        self.name=name1\n",
        "        self.last_name=last_name1\n",
        "    def __str__(self):\n",
        "        return f\"The name is {self.name} and last name is {self.last_name}\"\n"
      ]
    },
    {
      "cell_type": "code",
      "execution_count": 27,
      "metadata": {
        "id": "79IXSzq5jlvf",
        "outputId": "8ff4b9ee-c4d3-46b0-d633-a17b401f3493",
        "colab": {
          "base_uri": "https://localhost:8080/"
        }
      },
      "outputs": [
        {
          "output_type": "stream",
          "name": "stdout",
          "text": [
            "The name is Mahipal and last name is Singh\n"
          ]
        }
      ],
      "source": [
        "person1=Person(\"Mahipal\",\"Singh\")\n",
        "print(person1)"
      ]
    },
    {
      "cell_type": "code",
      "execution_count": 28,
      "metadata": {
        "id": "SBbgijWxjlvf",
        "outputId": "92c52869-95a9-4413-cd0c-7c9bfcfd7aef",
        "colab": {
          "base_uri": "https://localhost:8080/",
          "height": 36
        }
      },
      "outputs": [
        {
          "output_type": "execute_result",
          "data": {
            "text/plain": [
              "'Hello how are you Mahipal'"
            ],
            "application/vnd.google.colaboratory.intrinsic+json": {
              "type": "string"
            }
          },
          "metadata": {},
          "execution_count": 28
        }
      ],
      "source": [
        "\"Hello how are you {}\".format(\"Mahipal\")"
      ]
    },
    {
      "cell_type": "code",
      "execution_count": 29,
      "metadata": {
        "id": "JLPci8w8jlvf"
      },
      "outputs": [],
      "source": [
        "## Bank account class and add infor like account number,account hoilde rname and balance"
      ]
    },
    {
      "cell_type": "code",
      "execution_count": 30,
      "metadata": {
        "id": "3ACt2sTkjlvf"
      },
      "outputs": [],
      "source": [
        "class BankAccount:\n",
        "    def __init__(self,account_number,account_holder,balance=0):\n",
        "        self.account_number=account_number\n",
        "        self.account_holder=account_holder\n",
        "        self.balance=balance\n",
        "\n",
        "    def deposit(self,deposit):\n",
        "        self.balance=self.balance + deposit\n",
        "\n",
        "    def withdrawl(self,withdrawl_amt):\n",
        "        if withdrawl_amt <= self.balance:\n",
        "            self.balance=self.balance - withdrawl_amt\n",
        "        else:\n",
        "            print(\"The Balance is less\")\n",
        "\n",
        "\n"
      ]
    },
    {
      "cell_type": "code",
      "execution_count": 31,
      "metadata": {
        "id": "9qmkjTBejlvf"
      },
      "outputs": [],
      "source": [
        "account1=BankAccount(\"1234\",\"Mahipal SIngh\",0)"
      ]
    },
    {
      "cell_type": "code",
      "execution_count": 32,
      "metadata": {
        "id": "qznrUkULjlvg",
        "outputId": "2633097f-3448-411f-d4bf-49fa12d9f7d1",
        "colab": {
          "base_uri": "https://localhost:8080/"
        }
      },
      "outputs": [
        {
          "output_type": "execute_result",
          "data": {
            "text/plain": [
              "['__class__',\n",
              " '__delattr__',\n",
              " '__dict__',\n",
              " '__dir__',\n",
              " '__doc__',\n",
              " '__eq__',\n",
              " '__format__',\n",
              " '__ge__',\n",
              " '__getattribute__',\n",
              " '__gt__',\n",
              " '__hash__',\n",
              " '__init__',\n",
              " '__init_subclass__',\n",
              " '__le__',\n",
              " '__lt__',\n",
              " '__module__',\n",
              " '__ne__',\n",
              " '__new__',\n",
              " '__reduce__',\n",
              " '__reduce_ex__',\n",
              " '__repr__',\n",
              " '__setattr__',\n",
              " '__sizeof__',\n",
              " '__str__',\n",
              " '__subclasshook__',\n",
              " '__weakref__',\n",
              " 'account_holder',\n",
              " 'account_number',\n",
              " 'balance',\n",
              " 'deposit',\n",
              " 'withdrawl']"
            ]
          },
          "metadata": {},
          "execution_count": 32
        }
      ],
      "source": [
        "dir(account1)"
      ]
    },
    {
      "cell_type": "code",
      "execution_count": 33,
      "metadata": {
        "id": "HC-qfYXxjlvg",
        "outputId": "beb5fa98-dd55-4ab1-f946-6397dfaa8a3c",
        "colab": {
          "base_uri": "https://localhost:8080/"
        }
      },
      "outputs": [
        {
          "output_type": "stream",
          "name": "stdout",
          "text": [
            "0\n"
          ]
        }
      ],
      "source": [
        "print(account1.balance)"
      ]
    },
    {
      "cell_type": "code",
      "execution_count": 34,
      "metadata": {
        "id": "T2mh7EwPjlvg"
      },
      "outputs": [],
      "source": [
        "account1.deposit(100)"
      ]
    },
    {
      "cell_type": "code",
      "execution_count": 35,
      "metadata": {
        "id": "wL84Wm6Ljlvg",
        "outputId": "6ed96bbc-8023-49a2-890a-c6c87ed039e1",
        "colab": {
          "base_uri": "https://localhost:8080/"
        }
      },
      "outputs": [
        {
          "output_type": "stream",
          "name": "stdout",
          "text": [
            "100\n"
          ]
        }
      ],
      "source": [
        "print(account1.balance)"
      ]
    },
    {
      "cell_type": "code",
      "execution_count": 36,
      "metadata": {
        "id": "55gSu60jjlvg"
      },
      "outputs": [],
      "source": [
        "account1.withdrawl(50)"
      ]
    },
    {
      "cell_type": "code",
      "execution_count": 37,
      "metadata": {
        "id": "jKWFhJGjjlvg",
        "outputId": "a8886ef6-25bc-4601-92b2-e3567ae60047",
        "colab": {
          "base_uri": "https://localhost:8080/"
        }
      },
      "outputs": [
        {
          "output_type": "stream",
          "name": "stdout",
          "text": [
            "50\n"
          ]
        }
      ],
      "source": [
        "print(account1.balance)"
      ]
    },
    {
      "cell_type": "code",
      "execution_count": 39,
      "metadata": {
        "id": "juZies_Ujlvh"
      },
      "outputs": [],
      "source": [
        "class BankAccount :\n",
        "    def __init__(self,account_number,account_holder_name,balance = 0):\n",
        "        self.account_number = account_number\n",
        "        self.account_holder_name = account_holder_name\n",
        "        self.balance = balance\n",
        "\n",
        "\n",
        "    def deposit (self,amount):\n",
        "        self.balance += amount\n",
        "\n",
        "\n",
        "    def withdrawl(self,withdrawl):\n",
        "        self.balance = self.balance - withdrawl\n",
        "\n",
        "\n",
        "\n"
      ]
    },
    {
      "cell_type": "code",
      "execution_count": 40,
      "metadata": {
        "id": "o5qKdzfMjlvh",
        "outputId": "cb07d796-19bb-4167-b94c-3c9fdb1477b8",
        "colab": {
          "base_uri": "https://localhost:8080/"
        }
      },
      "outputs": [
        {
          "output_type": "stream",
          "name": "stdout",
          "text": [
            "0\n"
          ]
        }
      ],
      "source": [
        "account1 = BankAccount(\"1234\",\"Nisha Joshi\",0)\n",
        "print(account1.balance)"
      ]
    },
    {
      "cell_type": "code",
      "execution_count": 41,
      "metadata": {
        "id": "NjYJIe2ajlvh"
      },
      "outputs": [],
      "source": [
        "# Bank Account Class\n",
        "class Bank_account:\n",
        "    def __init__(self, account_holdername, balance, account_number, account_type):\n",
        "        self.account_holdername=account_holdername\n",
        "        self.account_number=account_number\n",
        "        self.balance=balance\n",
        "        self.account_type=account_type\n",
        "\n",
        "    def deposit(self, amount):\n",
        "        self.balance += amount\n",
        "        print(f\"your new balance is {self.balance}\" )\n",
        "\n",
        "    def widrawal(self, amount):\n",
        "        if amount <= self.balance:\n",
        "            self.balance -= amount\n",
        "            print(f\"Your updated balance is {self.balance}\")\n",
        "        else:\n",
        "            print(\"You do not have sufficient funds\")\n",
        "\n",
        "\n"
      ]
    },
    {
      "cell_type": "code",
      "execution_count": 42,
      "metadata": {
        "id": "UOL7T1pAjlvh"
      },
      "outputs": [],
      "source": [
        "## Class represting a to do list\n",
        "\n",
        "class TodoList:\n",
        "    ## constructor\n",
        "    def __init__(self,owner):\n",
        "        self.owner=owner\n",
        "        self.tasks=[]\n",
        "\n",
        "    def add_task(self,task):\n",
        "        self.tasks.append(task)\n",
        "\n",
        "    def complete_task(self,task):\n",
        "        if task in self.tasks:\n",
        "            self.tasks.remove(task)\n",
        "            print(f\"Task '{task}' completed\")\n",
        "        else:\n",
        "            print(\"The task is not found\")\n",
        "\n",
        "    def display_tasks(self):\n",
        "        print(f\"The todo task of {self.owner}:\")\n",
        "        for task in self.tasks:\n",
        "            print(task)\n",
        "\n"
      ]
    },
    {
      "cell_type": "code",
      "execution_count": 43,
      "metadata": {
        "id": "_FVYmG13jlvh"
      },
      "outputs": [],
      "source": [
        "Mahipal=TodoList(\"Mahipal\")"
      ]
    },
    {
      "cell_type": "code",
      "execution_count": 44,
      "metadata": {
        "id": "1Yu0-8L5jlvi",
        "outputId": "77613492-0d51-4d53-88fe-5ba302680341",
        "colab": {
          "base_uri": "https://localhost:8080/"
        }
      },
      "outputs": [
        {
          "output_type": "execute_result",
          "data": {
            "text/plain": [
              "[]"
            ]
          },
          "metadata": {},
          "execution_count": 44
        }
      ],
      "source": [
        "Mahipal.tasks"
      ]
    },
    {
      "cell_type": "code",
      "execution_count": 45,
      "metadata": {
        "id": "VOcIBiF9jlvi"
      },
      "outputs": [],
      "source": [
        "Mahipal.add_task(\"I have to teach at 9am with real wworld examples\")"
      ]
    },
    {
      "cell_type": "code",
      "execution_count": 46,
      "metadata": {
        "id": "tqSliVZWjlvi",
        "outputId": "a00ebd34-e0c2-4379-c8cd-59589d94c1d4",
        "colab": {
          "base_uri": "https://localhost:8080/"
        }
      },
      "outputs": [
        {
          "output_type": "stream",
          "name": "stdout",
          "text": [
            "The todo task of Mahipal:\n",
            "I have to teach at 9am with real wworld examples\n"
          ]
        }
      ],
      "source": [
        "Mahipal.display_tasks()"
      ]
    },
    {
      "cell_type": "code",
      "execution_count": 47,
      "metadata": {
        "id": "EmMGBSCZjlvj"
      },
      "outputs": [],
      "source": [
        "Mahipal.add_task(\"12pm need to have lunch\")"
      ]
    },
    {
      "cell_type": "code",
      "execution_count": 48,
      "metadata": {
        "id": "epBXdmhEjlvj",
        "outputId": "e02b22c4-2ba5-4b1c-fb6b-bd51603e6960",
        "colab": {
          "base_uri": "https://localhost:8080/"
        }
      },
      "outputs": [
        {
          "output_type": "stream",
          "name": "stdout",
          "text": [
            "The todo task of Mahipal:\n",
            "I have to teach at 9am with real wworld examples\n",
            "12pm need to have lunch\n"
          ]
        }
      ],
      "source": [
        "Mahipal.display_tasks()"
      ]
    },
    {
      "cell_type": "code",
      "execution_count": 49,
      "metadata": {
        "id": "PUcOKvBujlvj",
        "outputId": "a2551699-5710-4d6f-8909-0d4b61ab863f",
        "colab": {
          "base_uri": "https://localhost:8080/"
        }
      },
      "outputs": [
        {
          "output_type": "stream",
          "name": "stdout",
          "text": [
            "Task '12pm need to have lunch' completed\n"
          ]
        }
      ],
      "source": [
        "Mahipal.complete_task(\"12pm need to have lunch\")"
      ]
    },
    {
      "cell_type": "code",
      "execution_count": 50,
      "metadata": {
        "id": "PPjJQ7SYjlvj",
        "outputId": "68e0bc5a-9502-4051-af6c-63fc6be97a35",
        "colab": {
          "base_uri": "https://localhost:8080/"
        }
      },
      "outputs": [
        {
          "output_type": "stream",
          "name": "stdout",
          "text": [
            "The todo task of Mahipal:\n",
            "I have to teach at 9am with real wworld examples\n"
          ]
        }
      ],
      "source": [
        "Mahipal.display_tasks()"
      ]
    },
    {
      "cell_type": "code",
      "execution_count": 51,
      "metadata": {
        "id": "sbUE3rJKjlvj"
      },
      "outputs": [],
      "source": [
        "# To-Do List\n",
        "\n",
        "class ToDoList:\n",
        "    # constructor\n",
        "    def __init__(self, owner):\n",
        "        self.owner = owner\n",
        "        self.tasks=[]\n",
        "    def add_task(self,task):\n",
        "        self.tasks.append(task)\n",
        "    def complete_task(self,task):\n",
        "        if task in self.tasks:\n",
        "            self.tasks.remove(task)\n",
        "            print(f\"Task '{task}' Completed\")\n",
        "        else:\n",
        "            print(f\"The task '{task}' not found\")\n",
        "    def display_task(self):\n",
        "        print(f\" The ToDo tasks of {self.owner}:\")\n",
        "        for task in self.tasks:\n",
        "            print(task)\n"
      ]
    },
    {
      "cell_type": "code",
      "execution_count": 52,
      "metadata": {
        "id": "uikbqx9hjlvj"
      },
      "outputs": [],
      "source": [
        "class BankAccount:\n",
        "    def __init__(self,account_number1,account_holder1,balance1=0):\n",
        "        self.account_number=account_number1\n",
        "        self.account_holder=account_holder1\n",
        "        self.balance=balance1\n",
        "\n",
        "    def deposit(self,amount):\n",
        "        self.balance+=amount\n",
        "\n",
        "    def withdraw(self,amount):\n",
        "        if amount<=self.balance:\n",
        "            self.balance-=amount\n",
        "        else:\n",
        "            print(\"Insufficient funds\")"
      ]
    },
    {
      "cell_type": "code",
      "execution_count": 53,
      "metadata": {
        "id": "H5UJ5tE2jlvj"
      },
      "outputs": [],
      "source": [
        "person1=BankAccount(1234,\"Mahipal Singh\")"
      ]
    },
    {
      "cell_type": "code",
      "execution_count": 54,
      "metadata": {
        "id": "OwlNDbeWjlvk",
        "outputId": "f0e67756-c399-41a7-fa17-ba19e8b62a76",
        "colab": {
          "base_uri": "https://localhost:8080/"
        }
      },
      "outputs": [
        {
          "output_type": "execute_result",
          "data": {
            "text/plain": [
              "0"
            ]
          },
          "metadata": {},
          "execution_count": 54
        }
      ],
      "source": [
        "person1.balance"
      ]
    },
    {
      "cell_type": "code",
      "execution_count": 55,
      "metadata": {
        "id": "_wl9xgoljlvk"
      },
      "outputs": [],
      "source": [
        "person1.deposit(100)"
      ]
    },
    {
      "cell_type": "code",
      "execution_count": 56,
      "metadata": {
        "id": "uMWcyWtrjlvk"
      },
      "outputs": [],
      "source": [
        "person1.withdraw(90)"
      ]
    },
    {
      "cell_type": "code",
      "execution_count": 57,
      "metadata": {
        "id": "D68ctoJ9jlvk",
        "outputId": "a24e063d-29a5-44ec-83fc-99196168c1b3",
        "colab": {
          "base_uri": "https://localhost:8080/"
        }
      },
      "outputs": [
        {
          "output_type": "execute_result",
          "data": {
            "text/plain": [
              "10"
            ]
          },
          "metadata": {},
          "execution_count": 57
        }
      ],
      "source": [
        "person1.balance"
      ]
    },
    {
      "cell_type": "code",
      "execution_count": 58,
      "metadata": {
        "id": "KwAbP0cOjlvk"
      },
      "outputs": [],
      "source": [
        "class Car:\n",
        "    def __init__(self,brand,model,color):\n",
        "        self.brand=brand\n",
        "        self.model=model\n",
        "        self.color=color\n",
        "    def start_engine(self):\n",
        "        print(f\"The {self.color} {self.brand} {self.model} is starting\")\n",
        "\n",
        "    def stop_enginer(self):\n",
        "        print(f\"The {self.color} {self.brand} {self.model} is stoppinf\")\n"
      ]
    },
    {
      "cell_type": "code",
      "execution_count": 59,
      "metadata": {
        "id": "pzy_KCNGjlvk"
      },
      "outputs": [],
      "source": [
        "car1=Car(\"BMW\",\"EV\",\"Red\")"
      ]
    },
    {
      "cell_type": "code",
      "execution_count": 60,
      "metadata": {
        "id": "DYN8cqNWjlvl",
        "outputId": "d455657d-6582-4b32-8b2a-55017b014ceb",
        "colab": {
          "base_uri": "https://localhost:8080/",
          "height": 36
        }
      },
      "outputs": [
        {
          "output_type": "execute_result",
          "data": {
            "text/plain": [
              "'BMW'"
            ],
            "application/vnd.google.colaboratory.intrinsic+json": {
              "type": "string"
            }
          },
          "metadata": {},
          "execution_count": 60
        }
      ],
      "source": [
        "car1.brand"
      ]
    },
    {
      "cell_type": "code",
      "execution_count": 61,
      "metadata": {
        "id": "cK6hJHS1jlvl"
      },
      "outputs": [],
      "source": [
        "class Mobilephone:\n",
        "    def __init__(self,brand,model,processor,price):\n",
        "        self.brand=brand\n",
        "        self.model=model\n",
        "        self.processor=processor\n",
        "        self.price=price\n",
        "\n",
        "    def make_calls(self,number):\n",
        "        print(f\"calling {number} with {self.brand} and {self.model}\")\n",
        "\n",
        "    def send_messages(self,number,message):\n",
        "        print(f\"sending message to {number} : {message}\")\n",
        "\n",
        "    def end_call(self,number):\n",
        "        print(f\"Call is disconnected with {number}\")\n",
        "\n",
        "\n"
      ]
    },
    {
      "cell_type": "code",
      "execution_count": 62,
      "metadata": {
        "id": "d3qsIM5Zjlvl"
      },
      "outputs": [],
      "source": [
        "samsung=Mobilephone(\"Samsung\",\"Note 3\",\"8 gen 2\",125000)"
      ]
    },
    {
      "cell_type": "code",
      "execution_count": 63,
      "metadata": {
        "id": "bIVsE45Ojlvl",
        "outputId": "c74380ee-c946-47ae-ca34-89b172eff068",
        "colab": {
          "base_uri": "https://localhost:8080/"
        }
      },
      "outputs": [
        {
          "output_type": "stream",
          "name": "stdout",
          "text": [
            "calling 9894737282 with Samsung and Note 3\n"
          ]
        }
      ],
      "source": [
        "samsung.make_calls(9894737282)"
      ]
    },
    {
      "cell_type": "code",
      "execution_count": 64,
      "metadata": {
        "id": "apcfFfCpjlvl"
      },
      "outputs": [],
      "source": [
        "class MobilePhone:\n",
        "\n",
        "    def __init__(self,brand,model,processor,price):\n",
        "        self.brand = brand\n",
        "        self.model = model\n",
        "        self.processor = processor\n",
        "        self.price = price\n",
        "\n",
        "    def make_calls(self,number):\n",
        "        print(f\"Calling the number {number}\")\n",
        "\n",
        "    def play_games(self):\n",
        "        print(\"Gaming begins\")\n",
        "\n",
        "    def send_messages(self,number):\n",
        "        print(f\"Sending message to {number}\")\n"
      ]
    },
    {
      "cell_type": "code",
      "execution_count": 65,
      "metadata": {
        "id": "2MKOkHFdjlvl",
        "outputId": "2db3988f-ac3b-482c-d5d3-9d24285cb365",
        "colab": {
          "base_uri": "https://localhost:8080/"
        }
      },
      "outputs": [
        {
          "output_type": "execute_result",
          "data": {
            "text/plain": [
              "<__main__.MobilePhone at 0x7edbac11ef80>"
            ]
          },
          "metadata": {},
          "execution_count": 65
        }
      ],
      "source": [
        "MobilePhone(\"Samsung\",\"Note 3\",\"8 gen 2\",125000)"
      ]
    },
    {
      "cell_type": "code",
      "execution_count": 66,
      "metadata": {
        "id": "mQI8WgEWjlvm"
      },
      "outputs": [],
      "source": [
        "class Laptop :\n",
        "    def __init__(self,model,brand):\n",
        "        self.model = model\n",
        "        self.brand = brand\n",
        "\n",
        "    def power_on(self) :\n",
        "        print(f\"This {self.brand} {self.model} is now switched on\")\n",
        "\n",
        "    def power_off(self) :\n",
        "        print(f\"This {self.brand} {self.model} is now switched off\")\n",
        "\n"
      ]
    },
    {
      "cell_type": "code",
      "execution_count": 67,
      "metadata": {
        "id": "cjEj3OCmjlvm",
        "outputId": "3cae2c44-ef69-44bf-f147-d8dfcbf10d3a",
        "colab": {
          "base_uri": "https://localhost:8080/"
        }
      },
      "outputs": [
        {
          "output_type": "execute_result",
          "data": {
            "text/plain": [
              "['__class__',\n",
              " '__delattr__',\n",
              " '__dict__',\n",
              " '__dir__',\n",
              " '__doc__',\n",
              " '__eq__',\n",
              " '__format__',\n",
              " '__ge__',\n",
              " '__getattribute__',\n",
              " '__gt__',\n",
              " '__hash__',\n",
              " '__init__',\n",
              " '__init_subclass__',\n",
              " '__le__',\n",
              " '__lt__',\n",
              " '__module__',\n",
              " '__ne__',\n",
              " '__new__',\n",
              " '__reduce__',\n",
              " '__reduce_ex__',\n",
              " '__repr__',\n",
              " '__setattr__',\n",
              " '__sizeof__',\n",
              " '__str__',\n",
              " '__subclasshook__',\n",
              " '__weakref__',\n",
              " 'brand',\n",
              " 'end_call',\n",
              " 'make_calls',\n",
              " 'model',\n",
              " 'price',\n",
              " 'processor',\n",
              " 'send_messages']"
            ]
          },
          "metadata": {},
          "execution_count": 67
        }
      ],
      "source": [
        "dir(samsung)"
      ]
    },
    {
      "cell_type": "code",
      "execution_count": 72,
      "metadata": {
        "id": "9LtsiTbRjlvm"
      },
      "outputs": [],
      "source": [
        "todo=ToDo(\"Mahipal\")\n"
      ]
    },
    {
      "cell_type": "code",
      "execution_count": 73,
      "metadata": {
        "id": "qDMAaN__jlvn"
      },
      "outputs": [],
      "source": [
        "todo.add_task('A','9 am')"
      ]
    },
    {
      "cell_type": "code",
      "execution_count": 74,
      "metadata": {
        "id": "QfkrbTNvjlvn",
        "outputId": "113a97fa-332c-44b4-ab17-d90ccc69ffcd",
        "colab": {
          "base_uri": "https://localhost:8080/"
        }
      },
      "outputs": [
        {
          "output_type": "execute_result",
          "data": {
            "text/plain": [
              "[{'task': 'A', 'time': '9 am'}]"
            ]
          },
          "metadata": {},
          "execution_count": 74
        }
      ],
      "source": [
        "todo.list_dict"
      ]
    },
    {
      "cell_type": "code",
      "execution_count": 136,
      "metadata": {
        "id": "RntpvNFPjlvn"
      },
      "outputs": [],
      "source": [
        "class Mobile_phone1:\n",
        "  def __init__(self, brand, model, processor, price):\n",
        "    self.brand = brand\n",
        "    self.model = model\n",
        "    self.processor = processor\n",
        "    self.price = price\n",
        "\n",
        "  def make_calls(self, number):\n",
        "    print(f'calling {number} with {self.brand} having {self.model} with {self.processor} of {self.price} is making call')\n",
        "\n",
        "  def send_msgs(self, number, message):\n",
        "    print(f'sending {message} to {number} with {self.brand} having {self.model} with {self.processor} of {self.price} is making call')\n",
        "\n",
        "  def end_calls(self,number):\n",
        "    print(f'calling {number} with {self.brand} having {self.model} with {self.processor} of {self.price} is ending call')\n"
      ]
    },
    {
      "cell_type": "code",
      "execution_count": 137,
      "metadata": {
        "id": "PMFpZLw1jlvn"
      },
      "outputs": [],
      "source": [
        "mobile = Mobile_phone1('Apple','i14','macos', 12000)\n"
      ]
    },
    {
      "cell_type": "code",
      "execution_count": 138,
      "metadata": {
        "id": "WijsvNGZjlvo",
        "outputId": "f285fe60-6b65-4bc8-d67c-b49aaf4f9f39",
        "colab": {
          "base_uri": "https://localhost:8080/",
          "height": 36
        }
      },
      "outputs": [
        {
          "output_type": "execute_result",
          "data": {
            "text/plain": [
              "'Apple'"
            ],
            "application/vnd.google.colaboratory.intrinsic+json": {
              "type": "string"
            }
          },
          "metadata": {},
          "execution_count": 138
        }
      ],
      "source": [
        "mobile.brand"
      ]
    },
    {
      "cell_type": "code",
      "execution_count": 140,
      "metadata": {
        "id": "tt1AaX58jlvo",
        "outputId": "376c5236-7aa7-4800-f16f-9c81eb9ccb20",
        "colab": {
          "base_uri": "https://localhost:8080/"
        }
      },
      "outputs": [
        {
          "output_type": "stream",
          "name": "stdout",
          "text": [
            "calling 896533331231358453123 with Apple having i14 with macos of 12000 is making call\n"
          ]
        }
      ],
      "source": [
        "mobile.make_calls(896533331231358453123)\n"
      ]
    },
    {
      "cell_type": "code",
      "execution_count": 99,
      "metadata": {
        "id": "rDuvWIh2jlvo"
      },
      "outputs": [],
      "source": [
        "mobile = MobilePhone('Apple','i14','macos', 12000)"
      ]
    },
    {
      "cell_type": "code",
      "execution_count": 101,
      "metadata": {
        "id": "dx8YLmRijlvp"
      },
      "outputs": [],
      "source": [
        "# To-Do List\n",
        "\n",
        "class ToDoList:\n",
        "    # constructor\n",
        "    def __init__(self, owner):\n",
        "        self.owner = owner\n",
        "        self.tasks=[]\n",
        "    def add_task(self,task):\n",
        "        self.tasks.append(task)\n",
        "    def complete_task(self,task):\n",
        "        if task in self.tasks:\n",
        "            self.tasks.remove(task)\n",
        "            print(f\"Task '{task}' Completed\")\n",
        "        else:\n",
        "            print(f\"The task '{task}' not found\")\n",
        "    def display_task(self):\n",
        "        print(f\" The ToDo tasks of {self.owner}:\")\n",
        "        for task in self.tasks:\n",
        "            print(task)\n"
      ]
    },
    {
      "cell_type": "code",
      "execution_count": 102,
      "metadata": {
        "id": "_iKOVhD-jlvp"
      },
      "outputs": [],
      "source": [
        "todo=TodoList('Mahipal')"
      ]
    },
    {
      "cell_type": "code",
      "execution_count": 103,
      "metadata": {
        "id": "nq9AAJb5jlvp"
      },
      "outputs": [],
      "source": [
        "todo.add_task('A')"
      ]
    },
    {
      "cell_type": "code",
      "execution_count": 104,
      "metadata": {
        "id": "aye7ZlsLjlvp",
        "outputId": "727f3b2a-cb69-4461-89e8-ca10037523cf",
        "colab": {
          "base_uri": "https://localhost:8080/"
        }
      },
      "outputs": [
        {
          "output_type": "stream",
          "name": "stdout",
          "text": [
            "The todo task of Mahipal:\n",
            "A\n"
          ]
        }
      ],
      "source": [
        "todo.display_tasks()"
      ]
    },
    {
      "cell_type": "code",
      "execution_count": 113,
      "metadata": {
        "id": "yXk5_amejlvr",
        "outputId": "cf812e57-0596-4aba-f950-3602e78f8088",
        "colab": {
          "base_uri": "https://localhost:8080/"
        }
      },
      "outputs": [
        {
          "output_type": "stream",
          "name": "stdout",
          "text": [
            "My task list:\n",
            "\n",
            "11.15-> class\n",
            "11.0-> tea break\n",
            "1.0-> Lunch\n",
            "Task Lunch\n",
            "class\n",
            "Key does not exist\n",
            "tea break\n",
            "Key does not exist\n",
            "Lunch\n"
          ]
        }
      ],
      "source": [
        "class to_dolist:\n",
        "    def __init__(self):\n",
        "        self.task_list={}\n",
        "\n",
        "    def add_task(self,task,time):\n",
        "        if task not in self.task_list.items():\n",
        "            self.task_list.update({task:time})\n",
        "        else:\n",
        "            self.task_list[key]=task\n",
        "            self.task_list[time]=time\n",
        "    def display(self):\n",
        "        for key,value in self.task_list.items():\n",
        "            print(f\"{value}-> {key}\")\n",
        "    def remove_task(self,task):\n",
        "        print(\"Task\",task)\n",
        "        for key,value in self.task_list.items():\n",
        "            print(key)\n",
        "            if(task==key):\n",
        "              self.task_list.pop(key)\n",
        "              break\n",
        "            else:\n",
        "              print(\"Key does not exist\")\n",
        "\n",
        "\n",
        "print(f\"My task list:\\n\")\n",
        "person1=to_dolist()\n",
        "\n",
        "person1.add_task(\"class\",9.00)\n",
        "person1.add_task(\"tea break\",11.00)\n",
        "person1.add_task(\"class\",11.15)\n",
        "person1.add_task(\"Lunch\",1.00)\n",
        "person1.display()\n",
        "person1.remove_task(\"Lunch\")\n"
      ]
    },
    {
      "cell_type": "code",
      "execution_count": 114,
      "metadata": {
        "id": "PxYi0bsLjlvr"
      },
      "outputs": [],
      "source": [
        "class ToDoList:\n",
        "    def __init__(self,owner):\n",
        "        self.owner=owner\n",
        "        self.tasks=[]\n",
        "\n",
        "    def add_task(self,task):\n",
        "        self.tasks.append(task)\n",
        "\n",
        "    def complete_task(self,task):\n",
        "        if task in self.tasks:\n",
        "            self.tasks.remove(task)\n",
        "            print(f\"Task '{task}' completed\")\n",
        "        else:\n",
        "            print(\"The task is not found\")\n",
        "\n",
        "    def display_tasks(self):\n",
        "        print(f\"The todo task of {self.owner}:\")\n",
        "        for task in self.tasks:\n",
        "            print(task)\n"
      ]
    },
    {
      "cell_type": "code",
      "execution_count": 115,
      "metadata": {
        "id": "WLXowhSLjlvr"
      },
      "outputs": [],
      "source": [
        "Tejaswi=ToDoList(\"Tejasswi\")\n"
      ]
    },
    {
      "cell_type": "code",
      "execution_count": 116,
      "metadata": {
        "id": "XO8CO9wOjlvs",
        "outputId": "fec0f5bb-cb15-4a55-9e3a-97842f91f543",
        "colab": {
          "base_uri": "https://localhost:8080/"
        }
      },
      "outputs": [
        {
          "output_type": "execute_result",
          "data": {
            "text/plain": [
              "[]"
            ]
          },
          "metadata": {},
          "execution_count": 116
        }
      ],
      "source": [
        "Tejaswi.tasks"
      ]
    }
  ],
  "metadata": {
    "kernelspec": {
      "display_name": "Python 3",
      "language": "python",
      "name": "python3"
    },
    "language_info": {
      "codemirror_mode": {
        "name": "ipython",
        "version": 3
      },
      "file_extension": ".py",
      "mimetype": "text/x-python",
      "name": "python",
      "nbconvert_exporter": "python",
      "pygments_lexer": "ipython3",
      "version": "3.8.5"
    },
    "colab": {
      "provenance": []
    }
  },
  "nbformat": 4,
  "nbformat_minor": 0
}