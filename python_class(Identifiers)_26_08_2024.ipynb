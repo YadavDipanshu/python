{
  "nbformat": 4,
  "nbformat_minor": 0,
  "metadata": {
    "colab": {
      "provenance": []
    },
    "kernelspec": {
      "name": "python3",
      "display_name": "Python 3"
    },
    "language_info": {
      "name": "python"
    }
  },
  "cells": [
    {
      "cell_type": "markdown",
      "source": [
        "# Identifiers"
      ],
      "metadata": {
        "id": "v9PQTfVQ2-L9"
      }
    },
    {
      "cell_type": "markdown",
      "source": [
        "<p><strong>Here are the key points related to identifiers in Python:</strong></p>\n",
        "<ol>\n",
        "    <li>\n",
        "        <p><strong>Definition</strong>: An identifier is a name given to entities like class, functions, variables, etc. It helps to differentiate one entity from another.</p>\n",
        "    </li>\n",
        "    <li>\n",
        "        <p><strong>Syntax</strong>: Identifiers can be a combination of letters in lowercase (a to z) or uppercase (A to Z) or digits (0 to 9) or an underscore (_). </p>\n",
        "    </li>\n",
        "    <li>\n",
        "        <p><strong>No digits:</strong> They must start with a letter or the underscore character, but not with a digit.</p>\n",
        "    </li>\n",
        "    <li>\n",
        "        <p><strong>Case-Sensitive</strong>: Identifiers in Python are case-sensitive. For example, <code>myVariable</code> and <code>myvariable</code> are two different identifiers in Python.</p>\n",
        "    </li>\n",
        "    <li>\n",
        "        <p><strong>No Special Characters</strong>: Identifiers cannot have special characters such as <code>!</code>, <code>@</code>, <code>#</code>, <code>$</code>, <code>%</code>, etc.</p>\n",
        "    </li>\n",
        "    <li>\n",
        "        <p><strong>Reserved Words</strong>: Python keywords cannot be used as identifiers. Words like <code>for</code>, <code>while</code>, <code>break</code>, <code>continue</code>, <code>in</code>, <code>elif</code>, <code>else</code>, <code>import</code>, <code>from</code>, <code>pass</code>, <code>return</code>, etc. are reserved words. You can view all keywords in your current version by typing <code>help(&quot;keywords&quot;)</code> in the Python interpreter.</p>\n",
        "    </li>\n",
        "    <li>\n",
        "        <p><strong>Unlimited Length</strong>: Python does not put any restriction on the length of the identifier. However, it&apos;s recommended to keep it within a reasonable size, to maintain readability and simplicity in the code.</p>\n",
        "    </li>\n",
        "    <li>\n",
        "        <p><strong>Private Identifiers</strong>: In Python, if the identifier starts with a single underscore, it indicates that it is a non-public part of the class, module, or function. This is just a convention and Python doesn&apos;t enforce it. If it starts with two underscores, it&apos;s a strongly private identifier. If the identifier also ends with two trailing underscores, the identifier is a language-defined special name.</p>\n",
        "    </li>\n",
        "    <li>\n",
        "        <p><strong>Non-ASCII Identifiers</strong>: Python 3 allows the use of non-ASCII letters in the identifiers. This means you can use letters like &eacute;, &ntilde;, &ouml;, я, etc. in your identifiers if you wish.</p>\n",
        "    </li>\n",
        "</ol>"
      ],
      "metadata": {
        "id": "zcF7c3wz3FP8"
      }
    },
    {
      "cell_type": "code",
      "source": [
        "num1 = 5\n",
        "_value = 10\n",
        "text_string = 'Hello, Everyone!'\n",
        "print(num1, _value, text_string)"
      ],
      "metadata": {
        "id": "cXFrXWsl5Zai"
      },
      "execution_count": null,
      "outputs": []
    },
    {
      "cell_type": "code",
      "source": [
        "_1a = 10\n",
        "_1b = 20\n",
        "c = _1a + _1b\n",
        "print(c)"
      ],
      "metadata": {
        "id": "CkHcRLU65blS"
      },
      "execution_count": null,
      "outputs": []
    },
    {
      "cell_type": "code",
      "source": [
        "my_var = 'lowercase'\n",
        "MY_VAR = 'UPPERCASE'\n",
        "print(my_var, MY_VAR)"
      ],
      "metadata": {
        "id": "TxNTUidH5eZg"
      },
      "execution_count": null,
      "outputs": []
    }
  ]
}