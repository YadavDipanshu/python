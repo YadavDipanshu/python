{
  "nbformat": 4,
  "nbformat_minor": 0,
  "metadata": {
    "colab": {
      "provenance": []
    },
    "kernelspec": {
      "name": "python3",
      "display_name": "Python 3"
    },
    "language_info": {
      "name": "python"
    }
  },
  "cells": [
    {
      "cell_type": "markdown",
      "source": [
        "##Indexing in Python\n",
        "Indexing is the process of accessing an element in a sequence using its position in the sequence (its index).\n",
        "\n",
        "In Python, indexing starts from 0, which means the first element in a sequence is at position 0, the second element is at position 1, and so on.\n",
        "\n",
        "To access an element in a sequence, you can use square brackets [] with the index of the element you want to access."
      ],
      "metadata": {
        "id": "J0R2hemecY_D"
      }
    },
    {
      "cell_type": "code",
      "source": [
        "my_list = ['apple', 'banana', 'cherry', 'date']\n",
        "print(my_list[0]) # output: 'apple'\n",
        "print(my_list[1]) # output: 'banana'"
      ],
      "metadata": {
        "colab": {
          "base_uri": "https://localhost:8080/"
        },
        "id": "zZYbEMNKcoUe",
        "outputId": "e3b632bb-eaf3-45db-fa89-0f99c4be6004"
      },
      "execution_count": null,
      "outputs": [
        {
          "output_type": "stream",
          "name": "stdout",
          "text": [
            "apple\n",
            "banana\n"
          ]
        }
      ]
    },
    {
      "cell_type": "code",
      "source": [
        "my_list = [1, 2, 3, 4, 5]\n",
        "print(my_list[0])  # 1\n",
        "print(my_list[1:3])  # [2, 3]\n",
        "my_list[0] = 10  # change the first element to 10\n",
        "print(my_list)"
      ],
      "metadata": {
        "id": "mPGIy32CZzEy"
      },
      "execution_count": null,
      "outputs": []
    },
    {
      "cell_type": "markdown",
      "source": [
        "##Slicing in Python\n",
        "Slicing is the process of accessing a sub-sequence of a sequence by specifying a starting and ending index. In Python, you perform slicing using the colon : operator. The syntax for slicing is as follows:"
      ],
      "metadata": {
        "id": "dxODQC9KdRUJ"
      }
    },
    {
      "cell_type": "code",
      "source": [
        "sequence[start_index:end_index]"
      ],
      "metadata": {
        "id": "K_kp9J5Ydamt"
      },
      "execution_count": null,
      "outputs": []
    },
    {
      "cell_type": "markdown",
      "source": [
        "where start_index is the index of the first element in the sub-sequence and end_index is the index of the last element in the sub-sequence (excluding the element at the end_index). To slice a sequence, you can use square brackets [] with the start and end indices separated by a colon."
      ],
      "metadata": {
        "id": "JeX1qfaEdkU-"
      }
    },
    {
      "cell_type": "code",
      "source": [
        "my_list = ['apple', 'banana', 'cherry', 'date']\n",
        "print(my_list[1:3]) # output: ['banana', 'cherry']"
      ],
      "metadata": {
        "colab": {
          "base_uri": "https://localhost:8080/"
        },
        "id": "nCNWcS8FdnOj",
        "outputId": "8634c2ce-ab72-4b27-9e6c-5f7503997c8e"
      },
      "execution_count": null,
      "outputs": [
        {
          "output_type": "stream",
          "name": "stdout",
          "text": [
            "['banana', 'cherry']\n"
          ]
        }
      ]
    },
    {
      "cell_type": "code",
      "source": [
        "my_list = ['apple', 'banana', 'cherry', 'date']\n",
        "print(my_list[:2]) # output: ['apple', 'banana']\n",
        "print(my_list[2:]) # output: ['cherry', 'date']"
      ],
      "metadata": {
        "id": "sIA3wvoKdsda"
      },
      "execution_count": null,
      "outputs": []
    },
    {
      "cell_type": "markdown",
      "source": [
        "In the first line of the above code, we have used slicing to get all the elements from the beginning of my_list up to (but not including) the element at index 2. In the second line, we have used slicing to get all the elements from index 2 to the end of my_list."
      ],
      "metadata": {
        "id": "QNtUDI6ceXlI"
      }
    },
    {
      "cell_type": "markdown",
      "source": [
        "##Examples of Slicing and Indexing in Python\n",
        "Let's take a look at some real-life examples of how you can use slicing and indexing in Python."
      ],
      "metadata": {
        "id": "lsxVAYuvesI9"
      }
    },
    {
      "cell_type": "code",
      "source": [
        "sentence = \"The quick brown fox jumps over the lazy dog\"\n",
        "first_word = sentence[:3]\n",
        "print(first_word) # output: \"The\""
      ],
      "metadata": {
        "id": "5AXs24PveLkl"
      },
      "execution_count": null,
      "outputs": []
    },
    {
      "cell_type": "code",
      "source": [
        "second_word = sentence[4:9]\n",
        "third_word = sentence[10:15]\n",
        "print(second_word) # output: \"quick\"\n",
        "print(third_word) # output: \"brown\""
      ],
      "metadata": {
        "id": "Rn5hPxIHe0so"
      },
      "execution_count": null,
      "outputs": []
    },
    {
      "cell_type": "markdown",
      "source": [
        "##Example 2: How to Filter a List\n",
        "Suppose we have a list of numbers and we want to extract all the odd numbers from the list. We can do this using slicing as follows:\n",
        "\n"
      ],
      "metadata": {
        "id": "i-9i5SDSfOHo"
      }
    },
    {
      "cell_type": "code",
      "source": [
        "numbers = [1, 2, 3, 4, 5, 6, 7, 8, 9]\n",
        "odd_numbers = numbers[::2]\n",
        "print(odd_numbers) # output: [1, 3, 5, 7, 9]"
      ],
      "metadata": {
        "id": "ALPRBGS_fZan"
      },
      "execution_count": null,
      "outputs": []
    },
    {
      "cell_type": "markdown",
      "source": [
        "In the above code, we have used slicing to extract all the odd numbers from the numbers list. The ::2 slice means that we are selecting every other element starting from the first element, which correspond to the odd numbers in the list. Since we only want the odd numbers, we start with the first element (index 0) and then select every other element after that.\n"
      ],
      "metadata": {
        "id": "HFlofDiOgra5"
      }
    },
    {
      "cell_type": "code",
      "source": [
        "Example 4: How to Modify Parts of a List\n",
        "Suppose we have a list of numbers and we want to modify the values of some of the elements in the list. We can do this using slicing as follows:\n",
        "\n",
        "numbers = [1, 2, 3, 4, 5, 6, 7, 8, 9]\n",
        "numbers[1:4] = [10, 20, 30]\n",
        "print(numbers) # output: [1, 10, 20, 30, 5, 6, 7, 8, 9]"
      ],
      "metadata": {
        "id": "uroHZF5IYqlc"
      },
      "execution_count": null,
      "outputs": []
    },
    {
      "cell_type": "markdown",
      "source": [
        "In the above code, we have used slicing to select a range of elements from the numbers list (indices 1 to 3), and then replaced these elements with a new list [10, 20, 30]. The result is that the elements at indices 1 to 3 in the numbers list have been replaced with the new values."
      ],
      "metadata": {
        "id": "FxTnAU0AY6RB"
      }
    },
    {
      "cell_type": "code",
      "source": [
        "#We could also insert new elements into the list using slicing as follows:\n",
        "\n",
        "numbers[4:4] = [40, 50]\n",
        "print(numbers) # output: [1, 10, 20, 30, 40, 50, 5, 6, 7, 8, 9]"
      ],
      "metadata": {
        "id": "so0ueUhWZSLD"
      },
      "execution_count": null,
      "outputs": []
    },
    {
      "cell_type": "markdown",
      "source": [
        "In this example, we have used slicing to insert a new list [40, 50] at index 4 in the numbers list. The 4:4 slice means that we are inserting the new list at index 4 (that is, before the element at index 4), but not deleting any existing elements."
      ],
      "metadata": {
        "id": "Z98HZwsKZXw7"
      }
    },
    {
      "cell_type": "markdown",
      "source": [
        "###We could also extract all the even numbers from the list using slicing as follows:"
      ],
      "metadata": {
        "id": "kOfh8kKYnrlB"
      }
    },
    {
      "cell_type": "code",
      "source": [
        "even_numbers = numbers[1::2]\n",
        "print(even_numbers) # output: [2, 4, 6, 8]"
      ],
      "metadata": {
        "id": "vGKB86pCgs9F"
      },
      "execution_count": null,
      "outputs": []
    },
    {
      "cell_type": "markdown",
      "source": [
        "# Standard Input and Output"
      ],
      "metadata": {
        "id": "WVZUXksLojIN"
      }
    },
    {
      "cell_type": "markdown",
      "source": [
        "<p><strong>Standard Output</strong></p>\n",
        "<ul>\n",
        "<li>This is typically the terminal (or the console) where the program is run. When a program wants to output some information, it will typically print to the standard output.</li>\n",
        "<li>Python provides <code>print()</code> function to send data to standard output. Here is an example:</li>\n",
        "</ul>"
      ],
      "metadata": {
        "id": "I7ThQHlUotXz"
      }
    },
    {
      "cell_type": "code",
      "source": [
        "print(\"Welcome to iNeuron\")\n",
        "# In this example, the string \"Welcome to iNeuron\" is sent to the standard output.\n",
        "# Usually your terminal or console where you are running the program."
      ],
      "metadata": {
        "id": "LP6yp7vvoo9P"
      },
      "execution_count": null,
      "outputs": []
    },
    {
      "cell_type": "markdown",
      "source": [
        "<p><strong>Standard Input</strong>:</p>\n",
        "<ul>\n",
        "<li>This is usually the keyboard, but it can also be data coming from a file or another program.</li>\n",
        "<li>Python provides the <code>input()</code> function to read data from standard input. Here is an example:</li>\n",
        "</ul>"
      ],
      "metadata": {
        "id": "RcXwMeGso1LO"
      }
    },
    {
      "cell_type": "code",
      "source": [
        "name = input(\"Enter your name: \")\n",
        "print(f\"Hello, {name}!\")"
      ],
      "metadata": {
        "id": "teunORe6o4hr"
      },
      "execution_count": null,
      "outputs": []
    },
    {
      "cell_type": "markdown",
      "source": [
        "The f before the string in print(f\"Hello, {name}!\") is used to denote a formatted string literal, often called f-string for short.\n",
        "F-strings were introduced in Python 3.6 as a new way to format strings. They are prefixed with 'f' and are followed by a string literal enclosed in quotes. The expression within the curly braces {} gets evaluated and inserted into the string."
      ],
      "metadata": {
        "id": "TBqXHKi9o9V4"
      }
    },
    {
      "cell_type": "markdown",
      "source": [
        "# Operators"
      ],
      "metadata": {
        "id": "VlYKxqGQaJD9"
      }
    },
    {
      "cell_type": "markdown",
      "source": [
        "<p>Various Operators in Python are:</p>\n",
        "<ul>\n",
        "<li>Arithmetic operators</li>\n",
        "<li>Assignment operators</li>\n",
        "<li>Comparison operators</li>\n",
        "<li>Logical operators</li>\n",
        "<li>Identity operators</li>\n",
        "<li>Membership operators</li>\n",
        "<li>Bitwise operators</li>\n",
        "</ul>"
      ],
      "metadata": {
        "id": "f-XdF8ChaLxT"
      }
    },
    {
      "cell_type": "markdown",
      "source": [
        "<p><strong>Arithmetic Operators</strong>: Used to perform mathematical operations.</p>"
      ],
      "metadata": {
        "id": "6eMv4GF8aUdf"
      }
    },
    {
      "cell_type": "code",
      "source": [
        "a = 10\n",
        "b = 3\n",
        "\n",
        "print(a + b)  # Addition, Output: 13\n",
        "print(a - b)  # Subtraction, Output: 7\n",
        "print(a * b)  # Multiplication, Output: 30\n",
        "print(a / b)  # Division, Output: 3.3333333333333335\n",
        "print(a // b) # Floor Division, Output: 3\n",
        "print(a % b)  # Modulus, Output: 1\n",
        "print(a ** b) # Exponent, Output: 1000a"
      ],
      "metadata": {
        "id": "aFzWjQoupCyz"
      },
      "execution_count": null,
      "outputs": []
    }
  ]
}