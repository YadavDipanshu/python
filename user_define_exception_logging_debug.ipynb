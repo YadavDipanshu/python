{
  "cells": [
    {
      "cell_type": "markdown",
      "metadata": {
        "id": "nRrsprJ1L07f"
      },
      "source": [
        "# User-defined Exceptions\n",
        "\n",
        "<p><strong>By deriving a new class</strong> from the default Exception class in Python, we can define our own exception types.</p>"
      ]
    },
    {
      "cell_type": "code",
      "execution_count": null,
      "metadata": {
        "id": "3qjQS_jGL07k"
      },
      "outputs": [],
      "source": [
        "class MyCustomError(Exception):\n",
        "    pass"
      ]
    },
    {
      "cell_type": "markdown",
      "metadata": {
        "id": "GYX76RDhL07m"
      },
      "source": [
        "<p>In the above code, <code>MyCustomError</code> is derived from the built-in <code>Exception</code> class. You can use this in your code by using the <code>raise</code> statement.</p>"
      ]
    },
    {
      "cell_type": "code",
      "execution_count": null,
      "metadata": {
        "id": "9F6x5VQjL07n"
      },
      "outputs": [],
      "source": [
        "raise MyCustomError(\"This is a custom error\")"
      ]
    },
    {
      "cell_type": "code",
      "execution_count": null,
      "metadata": {
        "id": "nsOgECQrL07o"
      },
      "outputs": [],
      "source": []
    },
    {
      "cell_type": "code",
      "execution_count": null,
      "metadata": {
        "id": "upp-i4RaL07p"
      },
      "outputs": [],
      "source": [
        "# define user-defined exceptions\n",
        "class WrongAge(Exception):\n",
        "    \"Raised when the input value is less than 100\"\n",
        "    pass"
      ]
    },
    {
      "cell_type": "code",
      "execution_count": null,
      "metadata": {
        "id": "NtqWwYp6L07p",
        "outputId": "8e586470-9a46-4b9e-d975-097a27137958"
      },
      "outputs": [
        {
          "name": "stdout",
          "output_type": "stream",
          "text": [
            "Enter a age: 11\n",
            "Invalid Age: You are not allowed to work\n"
          ]
        }
      ],
      "source": [
        "# you need to guess this number\n",
        "n = 18\n",
        "\n",
        "try:\n",
        "    input_num = int(input(\"Enter a age: \"))\n",
        "    if input_num < n:\n",
        "        raise WrongAge # calling your custom exception\n",
        "    else:\n",
        "        print(\"You can work\")\n",
        "except WrongAge:\n",
        "    print(\"Invalid Age: You are not allowed to work\")"
      ]
    },
    {
      "cell_type": "markdown",
      "metadata": {
        "id": "XfSZRFzHL07r"
      },
      "source": [
        "# Logging\n",
        "\n",
        "<ul>\n",
        "<li><strong>Logging</strong> is a technique for monitoring events that take place when some software is in use.</li>\n",
        "<li>For the creation, operation, and debugging of software, logging is crucial.</li>\n",
        "<li>There are very little odds that you would find the source of the issue if your programme fails and you don't have any logging records.</li>\n",
        "<li>Additionally, it will take a lot of time to identify the cause.&nbsp;</li>\n",
        "</ul>"
      ]
    },
    {
      "cell_type": "code",
      "execution_count": null,
      "metadata": {
        "id": "JcbR4RCmL07r",
        "outputId": "101922cc-4a2f-4001-e544-87c3a5b0713c"
      },
      "outputs": [
        {
          "name": "stderr",
          "output_type": "stream",
          "text": [
            "DEBUG:root:This is a debug message\n",
            "INFO:root:This is an info message\n",
            "WARNING:root:This is a warning message\n",
            "ERROR:root:This is an error message\n",
            "CRITICAL:root:This is a critical message\n"
          ]
        }
      ],
      "source": [
        "# first import the logging library\n",
        "import logging\n",
        "\n",
        "\"\"\" In the code above, we first import the logging module, then we call the\n",
        "    basicConfig method to configure the logging.\n",
        "\n",
        "    We set the level to DEBUG, which means that all logs of level\n",
        "    DEBUG and above will be tracked.\"\"\"\n",
        "\n",
        "logging.basicConfig(level=logging.DEBUG)\n",
        "\n",
        "# Logging Level: severity of the event being logged\n",
        "# Least severe to most severe\n",
        "logging.debug('This is a debug message')\n",
        "logging.info('This is an info message')\n",
        "logging.warning('This is a warning message')\n",
        "logging.error('This is an error message')\n",
        "logging.critical('This is a critical message')\n"
      ]
    },
    {
      "cell_type": "markdown",
      "metadata": {
        "id": "d8h6oQPRL07s"
      },
      "source": [
        "<ul>\n",
        "<li>Some programmers utilise the idea of&nbsp;<strong>\"Printing\"</strong> the statements to check whether they were correctly performed or if an error had occurred.</li>\n",
        "<li>However, printing is not a smart move. For basic scripts, it might be the answer to your problems, however the printing solution will fall short for complex programmes.</li>\n",
        "<li>A built-in Python package called logging enables publishing status messages to files or other output streams. The file may provide details about which portion of the code is run and any issues that have come up. </li>\n",
        "</ul>"
      ]
    },
    {
      "cell_type": "markdown",
      "metadata": {
        "id": "UPJfZRJuL07t"
      },
      "source": [
        "<ul>\n",
        "<li>\n",
        "<p>Here are the different log levels in increasing order of severity:</p>\n",
        "<ul>\n",
        "<li>DEBUG: Detailed information, typically of interest only when diagnosing problems.</li>\n",
        "<li>INFO: Confirmation that things are working as expected.</li>\n",
        "<li>WARNING: An indication that something unexpected happened, or may happen in the future (e.g. &lsquo;disk space low&rsquo;). The software is still working as expected.</li>\n",
        "<li>ERROR: More serious problem that prevented the software from performing a function.</li>\n",
        "<li>CRITICAL: A very serious error, indicating that the program itself may be unable to continue running.</li>\n",
        "</ul>\n",
        "</li>\n",
        "</ul>"
      ]
    },
    {
      "cell_type": "markdown",
      "metadata": {
        "id": "gVuRxhJsL07t"
      },
      "source": [
        "# Debug"
      ]
    },
    {
      "cell_type": "code",
      "execution_count": null,
      "metadata": {
        "id": "3rWzSaFBL07t",
        "outputId": "2e62a34a-9138-4b06-d93a-ac3ef0221c98"
      },
      "outputs": [
        {
          "name": "stderr",
          "output_type": "stream",
          "text": [
            "DEBUG:root:Variables are 1 and 2\n"
          ]
        },
        {
          "data": {
            "text/plain": [
              "3"
            ]
          },
          "execution_count": 9,
          "metadata": {},
          "output_type": "execute_result"
        }
      ],
      "source": [
        "import logging\n",
        "\n",
        "logging.basicConfig(level=logging.DEBUG)\n",
        "\n",
        "def add(x, y):\n",
        "    logging.debug('Variables are %s and %s', x, y)\n",
        "    return x + y\n",
        "\n",
        "add(1, 2)\n"
      ]
    },
    {
      "cell_type": "markdown",
      "metadata": {
        "id": "k-jpe7AGL07u"
      },
      "source": [
        "# Info"
      ]
    },
    {
      "cell_type": "code",
      "execution_count": null,
      "metadata": {
        "id": "ZiY3tqCWL07u",
        "outputId": "92765d68-8e94-4ebc-962b-6ca7932b1b6f"
      },
      "outputs": [
        {
          "name": "stderr",
          "output_type": "stream",
          "text": [
            "INFO:root:User Admin User logged in\n"
          ]
        }
      ],
      "source": [
        "import logging\n",
        "\n",
        "logging.basicConfig(level=logging.INFO)\n",
        "\n",
        "def login(user):\n",
        "    logging.info('User %s logged in', user)\n",
        "\n",
        "login('Admin User')\n"
      ]
    },
    {
      "cell_type": "markdown",
      "metadata": {
        "id": "daIcJ7NmL07v"
      },
      "source": [
        "# Warning"
      ]
    },
    {
      "cell_type": "code",
      "execution_count": null,
      "metadata": {
        "id": "D0WbKLL-L07v",
        "outputId": "44e16528-1df0-43fb-ad49-58ab2ac5151d"
      },
      "outputs": [
        {
          "name": "stderr",
          "output_type": "stream",
          "text": [
            "WARNING:root:Sorry you have Low balance: 10000\n"
          ]
        }
      ],
      "source": [
        "import logging\n",
        "\n",
        "logging.basicConfig(level=logging.WARNING)\n",
        "\n",
        "def MyBalance(amount):\n",
        "    if amount < 40000:\n",
        "        logging.warning('Sorry you have Low balance: %s', amount)\n",
        "\n",
        "MyBalance(10000)\n"
      ]
    },
    {
      "cell_type": "markdown",
      "metadata": {
        "id": "fwpO_yh6L07w"
      },
      "source": [
        "# Error"
      ]
    },
    {
      "cell_type": "code",
      "execution_count": null,
      "metadata": {
        "id": "hRTNyJj2L07w",
        "outputId": "3d7e0c97-52b8-4814-8243-4475bf84573e"
      },
      "outputs": [
        {
          "name": "stderr",
          "output_type": "stream",
          "text": [
            "ERROR:root:You are trying to divide by zero, which is not allowed\n"
          ]
        }
      ],
      "source": [
        "import logging\n",
        "\n",
        "logging.basicConfig(level=logging.ERROR)\n",
        "\n",
        "def LetUsDivide(n, d):\n",
        "    try:\n",
        "        result = n / d\n",
        "    except ZeroDivisionError:\n",
        "        logging.error('You are trying to divide by zero, which is not allowed')\n",
        "    else:\n",
        "        return result\n",
        "\n",
        "LetUsDivide(4, 0)\n"
      ]
    },
    {
      "cell_type": "markdown",
      "metadata": {
        "id": "4KPWIwwNL07w"
      },
      "source": [
        "# Critical Errors"
      ]
    },
    {
      "cell_type": "code",
      "execution_count": null,
      "metadata": {
        "id": "0mh_DwJdL07x",
        "outputId": "b356e76e-e40f-44ca-cb2c-dc860ab17844"
      },
      "outputs": [
        {
          "name": "stderr",
          "output_type": "stream",
          "text": [
            "CRITICAL:root:System failure: You need to handle the issue now\n"
          ]
        }
      ],
      "source": [
        "import logging\n",
        "\n",
        "logging.basicConfig(level=logging.CRITICAL)\n",
        "\n",
        "def LetUsCheckSystem(sys):\n",
        "    if sys != 'OK':\n",
        "        logging.critical('System failure: %s', sys)\n",
        "\n",
        "LetUsCheckSystem('You need to handle the issue now')\n"
      ]
    },
    {
      "cell_type": "markdown",
      "metadata": {
        "id": "SncmkigaL07x"
      },
      "source": [
        "# Save to a file"
      ]
    },
    {
      "cell_type": "code",
      "execution_count": null,
      "metadata": {
        "id": "wW2Ll7UuL07z"
      },
      "outputs": [],
      "source": []
    }
  ],
  "metadata": {
    "kernelspec": {
      "display_name": "Python 3",
      "language": "python",
      "name": "python3"
    },
    "language_info": {
      "codemirror_mode": {
        "name": "ipython",
        "version": 3
      },
      "file_extension": ".py",
      "mimetype": "text/x-python",
      "name": "python",
      "nbconvert_exporter": "python",
      "pygments_lexer": "ipython3",
      "version": "3.8.5"
    },
    "colab": {
      "provenance": []
    }
  },
  "nbformat": 4,
  "nbformat_minor": 0
}