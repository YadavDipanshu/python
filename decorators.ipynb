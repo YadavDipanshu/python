{
  "nbformat": 4,
  "nbformat_minor": 0,
  "metadata": {
    "colab": {
      "provenance": []
    },
    "kernelspec": {
      "name": "python3",
      "display_name": "Python 3"
    },
    "language_info": {
      "name": "python"
    }
  },
  "cells": [
    {
      "cell_type": "markdown",
      "source": [
        "### Decorators\n",
        "\n",
        "A decorator in python is a function that receives another function as input and adds some functionality(decoration) to and it and returns it.\n",
        "\n",
        "This can happen only because python functions are 1st class citizens.\n",
        "\n",
        "There are 2 types of decorators available in python\n",
        "- `Built in decorators` like `@staticmethod`, `@classmethod`, `@abstractmethod` and `@property` etc\n",
        "- `User defined decorators` that we programmers can create according to our needs"
      ],
      "metadata": {
        "id": "v2I4_MetLUYb"
      }
    },
    {
      "cell_type": "code",
      "source": [
        "# Python are 1st class function\n",
        "\n",
        "def modify(func,num):\n",
        "  return func(num)\n",
        "\n",
        "def square(num):\n",
        "  return num**2\n",
        "\n",
        "modify(square,2)"
      ],
      "metadata": {
        "colab": {
          "base_uri": "https://localhost:8080/"
        },
        "id": "PLEnpaeHUvAk",
        "outputId": "86fe9ab7-3533-4ed2-cd65-f96e8941df74"
      },
      "execution_count": null,
      "outputs": [
        {
          "output_type": "execute_result",
          "data": {
            "text/plain": [
              "4"
            ]
          },
          "metadata": {},
          "execution_count": 71
        }
      ]
    },
    {
      "cell_type": "code",
      "source": [
        "# simple example\n",
        "\n",
        "def my_decorator(func):\n",
        "  def wrapper():\n",
        "    print('***********************')\n",
        "    func()\n",
        "    print('***********************')\n",
        "  return wrapper\n",
        "\n",
        "def hello():\n",
        "  print('hello')\n",
        "\n",
        "def display():\n",
        "  print('hello nitish')\n",
        "\n",
        "a = my_decorator(hello)\n",
        "a()\n",
        "\n",
        "b = my_decorator(display)\n",
        "b()"
      ],
      "metadata": {
        "colab": {
          "base_uri": "https://localhost:8080/"
        },
        "id": "fsyP9F9z5OSe",
        "outputId": "ec17ff47-2eaa-46e4-a6c7-0eb131ff488c"
      },
      "execution_count": null,
      "outputs": [
        {
          "output_type": "stream",
          "name": "stdout",
          "text": [
            "***********************\n",
            "hello\n",
            "***********************\n",
            "***********************\n",
            "hello nitish\n",
            "***********************\n"
          ]
        }
      ]
    },
    {
      "cell_type": "code",
      "source": [
        "# more functions"
      ],
      "metadata": {
        "id": "3wh7a0paP4wv"
      },
      "execution_count": null,
      "outputs": []
    },
    {
      "cell_type": "code",
      "source": [
        "# how this works -> closure?"
      ],
      "metadata": {
        "id": "3rwgdym6UyV2"
      },
      "execution_count": null,
      "outputs": []
    },
    {
      "cell_type": "code",
      "source": [
        "# python tutor"
      ],
      "metadata": {
        "id": "2JD6mQ7TNqRR"
      },
      "execution_count": null,
      "outputs": []
    },
    {
      "cell_type": "code",
      "source": [
        "# Better syntax?\n",
        "# simple example\n",
        "\n",
        "def my_decorator(func):\n",
        "  def wrapper():\n",
        "    print('***********************')\n",
        "    func()\n",
        "    print('***********************')\n",
        "  return wrapper\n",
        "\n",
        "@my_decorator\n",
        "def hello():\n",
        "  print('hello')\n",
        "\n",
        "hello()"
      ],
      "metadata": {
        "colab": {
          "base_uri": "https://localhost:8080/"
        },
        "id": "6xenz10AVfTp",
        "outputId": "cb2e3d25-d951-49d5-ae36-62fff01bae68"
      },
      "execution_count": null,
      "outputs": [
        {
          "output_type": "stream",
          "name": "stdout",
          "text": [
            "***********************\n",
            "hello\n",
            "***********************\n"
          ]
        }
      ]
    },
    {
      "cell_type": "code",
      "source": [
        "# anything meaningful?\n",
        "import time\n",
        "\n",
        "def timer(func):\n",
        "  def wrapper(*args):\n",
        "    start = time.time()\n",
        "    func(*args)\n",
        "    print('time taken by',func.__name__,time.time()-start,'secs')\n",
        "  return wrapper\n",
        "\n",
        "@timer\n",
        "def hello():\n",
        "  print('hello wolrd')\n",
        "  time.sleep(2)\n",
        "\n",
        "@timer\n",
        "def square(num):\n",
        "  time.sleep(1)\n",
        "  print(num**2)\n",
        "\n",
        "@timer\n",
        "def power(a,b):\n",
        "  print(a**b)\n",
        "\n",
        "hello()\n",
        "square(2)\n",
        "power(2,3)\n"
      ],
      "metadata": {
        "colab": {
          "base_uri": "https://localhost:8080/"
        },
        "id": "JGXuT9XSP3ue",
        "outputId": "0d9ce629-0d1e-4198-b9b4-95e21486adc8"
      },
      "execution_count": null,
      "outputs": [
        {
          "output_type": "stream",
          "name": "stdout",
          "text": [
            "hello wolrd\n",
            "time taken by hello 2.003671884536743 secs\n",
            "4\n",
            "time taken by square 1.0009939670562744 secs\n",
            "8\n",
            "time taken by power 2.1696090698242188e-05 secs\n"
          ]
        }
      ]
    },
    {
      "cell_type": "code",
      "source": [
        "# A big problem"
      ],
      "metadata": {
        "id": "tF12z0_-VG8y"
      },
      "execution_count": null,
      "outputs": []
    },
    {
      "cell_type": "code",
      "source": [
        "# One last example -> decorators with arguments\n"
      ],
      "metadata": {
        "id": "WDb2Cn_PQAA9"
      },
      "execution_count": null,
      "outputs": []
    },
    {
      "cell_type": "code",
      "source": [
        "@checkdt(int)\n",
        "def square(num):\n",
        "  print(num**2)"
      ],
      "metadata": {
        "id": "Ngoztw_GQEa9"
      },
      "execution_count": null,
      "outputs": []
    },
    {
      "cell_type": "code",
      "source": [
        "def sanity_check(data_type):\n",
        "  def outer_wrapper(func):\n",
        "    def inner_wrapper(*args):\n",
        "      if type(*args) == data_type:\n",
        "        func(*args)\n",
        "      else:\n",
        "        raise TypeError('Ye datatype nai chalega')\n",
        "    return inner_wrapper\n",
        "  return outer_wrapper\n",
        "\n",
        "@sanity_check(int)\n",
        "def square(num):\n",
        "  print(num**2)\n",
        "\n",
        "@sanity_check(str)\n",
        "def greet(name):\n",
        "  print('hello',name)\n",
        "\n",
        "square(2)"
      ],
      "metadata": {
        "colab": {
          "base_uri": "https://localhost:8080/"
        },
        "id": "hjjt65fYSri2",
        "outputId": "555806f0-a2b9-4f76-c5ec-6b91aaa76c34"
      },
      "execution_count": null,
      "outputs": [
        {
          "output_type": "stream",
          "name": "stdout",
          "text": [
            "4\n"
          ]
        }
      ]
    },
    {
      "cell_type": "code",
      "source": [],
      "metadata": {
        "id": "Xn-HNkj0TXcx"
      },
      "execution_count": 1,
      "outputs": []
    },
    {
      "cell_type": "code",
      "source": [],
      "metadata": {
        "id": "FB3Uky2BStKg"
      },
      "execution_count": null,
      "outputs": []
    }
  ]
}