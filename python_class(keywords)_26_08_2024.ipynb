{
  "nbformat": 4,
  "nbformat_minor": 0,
  "metadata": {
    "colab": {
      "provenance": []
    },
    "kernelspec": {
      "name": "python3",
      "display_name": "Python 3"
    },
    "language_info": {
      "name": "python"
    }
  },
  "cells": [
    {
      "cell_type": "markdown",
      "source": [
        "# Keywords in Python"
      ],
      "metadata": {
        "id": "v9PQTfVQ2-L9"
      }
    },
    {
      "cell_type": "markdown",
      "source": [
        "<p><strong>Here are the key points related to keywords in Python:</strong></p>\n",
        "<ol>\n",
        "    <li>\n",
        "        <p><strong>Definition</strong>: Keywords in Python are reserved words that cannot be used as ordinary identifiers. They are used to define the syntax and structure of the Python language.</p>\n",
        "    </li>\n",
        "    <li>\n",
        "        <p><strong>Immutability</strong>: Keywords are immutable. This means their meaning and definition can&apos;t be altered.</p>\n",
        "    </li>\n",
        "    <li>\n",
        "        <p><strong>Case Sensitivity</strong>: Keywords are case-sensitive. For example, <code>True</code> is a valid keyword, but <code>true</code> is not.</p>\n",
        "    </li>\n",
        "    <li>\n",
        "        <p><strong>Total Number</strong>: As of Python 3.9, there are 35 keywords.</p>\n",
        "    </li>\n",
        "    <li>\n",
        "        <p><strong>List of Keywords</strong>: The complete list of Python keywords are <code>False</code>, <code>None</code>, <code>True</code>, <code>and</code>, <code>as</code>, <code>assert</code>, <code>async</code>, <code>await</code>, <code>break</code>, <code>class</code>, <code>continue</code>, <code>def</code>, <code>del</code>, <code>elif</code>, <code>else</code>, <code>except</code>, <code>finally</code>, <code>for</code>, <code>from</code>, <code>global</code>, <code>if</code>, <code>import</code>, <code>in</code>, <code>is</code>, <code>lambda</code>, <code>nonlocal</code>, <code>not</code>, <code>or</code>, <code>pass</code>, <code>raise</code>, <code>return</code>, <code>try</code>, <code>while</code>, <code>with</code>, <code>yield</code>.</p>\n",
        "    </li>\n",
        "    <li>\n",
        "        <p><strong>Special Keywords</strong>: <code>async</code> and <code>await</code> are used for handling asynchronous processing, and they became keywords in Python 3.7.</p>\n",
        "    </li>\n",
        "    <li>\n",
        "        <p><strong>Usage</strong>: Each keyword has a specific meaning and usage in Python programming. For instance, <code>def</code> is used for defining functions, <code>if</code> is used for making conditional statements, <code>for</code> and <code>while</code> are used for loops, <code>class</code> is used for defining a class, and so on.</p>\n",
        "    </li>\n",
        "    <li>\n",
        "        <p><strong>Identifying Keywords</strong>: You can get the list of all keywords in Python by using the following code:</p>\n",
        "    </li>\n",
        "</ol>"
      ],
      "metadata": {
        "id": "zcF7c3wz3FP8"
      }
    },
    {
      "cell_type": "code",
      "source": [
        "# instal package \"keyword\" to check how many keywords are there\n",
        "# pip install keyword\n",
        "\n",
        "# load package\n",
        "import keyword\n",
        "\n",
        "# display all keywords\n",
        "print(keyword.kwlist)"
      ],
      "metadata": {
        "colab": {
          "base_uri": "https://localhost:8080/"
        },
        "id": "CahBIf-S29X8",
        "outputId": "800fb5c5-6346-4908-d738-636ff557293d"
      },
      "execution_count": 1,
      "outputs": [
        {
          "output_type": "stream",
          "name": "stdout",
          "text": [
            "['False', 'None', 'True', 'and', 'as', 'assert', 'async', 'await', 'break', 'class', 'continue', 'def', 'del', 'elif', 'else', 'except', 'finally', 'for', 'from', 'global', 'if', 'import', 'in', 'is', 'lambda', 'nonlocal', 'not', 'or', 'pass', 'raise', 'return', 'try', 'while', 'with', 'yield']\n"
          ]
        }
      ]
    },
    {
      "cell_type": "code",
      "source": [
        "# Incorrect use of keywords as variable names\n",
        "\n",
        "class = 10     # 'class' is a reserved keyword\n",
        "return = 5     # 'return' is a reserved keyword\n",
        "if = \"hello\"   # 'if' is a reserved keyword\n",
        "else = 3.14    # 'else' is a reserved keyword\n",
        "\n",
        "print(class, return, if, else)\n"
      ],
      "metadata": {
        "id": "O83L2pUM3WN_"
      },
      "execution_count": null,
      "outputs": []
    },
    {
      "cell_type": "code",
      "source": [
        "# Correct use of variable names\n",
        "\n",
        "class_number = 10\n",
        "return_value = 5\n",
        "if_string = \"hello\"\n",
        "else_number = 3.14\n",
        "\n",
        "print(class_number, return_value, if_string, else_number)\n"
      ],
      "metadata": {
        "id": "Njs21ngo3arD"
      },
      "execution_count": null,
      "outputs": []
    }
  ]
}