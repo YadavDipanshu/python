{
  "cells": [
    {
      "cell_type": "markdown",
      "metadata": {
        "id": "UIdBeXYgxvd2"
      },
      "source": [
        "## Inheritance Classes"
      ]
    },
    {
      "cell_type": "code",
      "execution_count": 2,
      "metadata": {
        "id": "tM_huhcfxvd4"
      },
      "outputs": [],
      "source": [
        "class Person:\n",
        "    def __init__(self,name):\n",
        "        self.name=name\n",
        "\n",
        "    def display_info(self):\n",
        "        print(f\"Name is : {self.name}\")\n"
      ]
    },
    {
      "cell_type": "code",
      "execution_count": 3,
      "metadata": {
        "id": "M2Q7H0DJxvd5"
      },
      "outputs": [],
      "source": [
        "class Student(Person):\n",
        "    def __init__(self,name,grade):\n",
        "        super().__init__(name)\n",
        "        self.grade=grade\n",
        "\n",
        "    def display_info(self):\n",
        "        super().display_info()\n",
        "        print(f\"Grade is : {self.grade}\")\n",
        "\n"
      ]
    },
    {
      "cell_type": "code",
      "execution_count": 4,
      "metadata": {
        "colab": {
          "base_uri": "https://localhost:8080/"
        },
        "id": "lC9gz6Jqxvd5",
        "outputId": "5a53b985-b466-4d88-95fa-9312ff967d60"
      },
      "outputs": [
        {
          "output_type": "stream",
          "name": "stdout",
          "text": [
            "Name is : Mahipal\n",
            "Grade is : A\n"
          ]
        }
      ],
      "source": [
        "student1= Student(\"Mahipal\",\"A\")\n",
        "student1.display_info()"
      ]
    },
    {
      "cell_type": "code",
      "execution_count": 5,
      "metadata": {
        "id": "kzD8ZcGjxvd5"
      },
      "outputs": [],
      "source": [
        "\n",
        "\n",
        "class Teacher(Person):\n",
        "    def __init__(self,name,subject):\n",
        "        super().__init__(name)\n",
        "        self.subject=subject\n",
        "\n",
        "    def display_info(self):\n",
        "        super().display_info()\n",
        "        print(f\"Subject:{self.subject}\")\n"
      ]
    },
    {
      "cell_type": "code",
      "execution_count": 6,
      "metadata": {
        "colab": {
          "base_uri": "https://localhost:8080/"
        },
        "id": "t4Hyp47Axvd6",
        "outputId": "adb43501-587c-4699-d029-4adfaa0be726"
      },
      "outputs": [
        {
          "output_type": "stream",
          "name": "stdout",
          "text": [
            "Name is : Mahipal\n",
            "Subject:AI\n"
          ]
        }
      ],
      "source": [
        "teacher1=Teacher(\"Mahipal\",\"AI\")\n",
        "teacher1.display_info()"
      ]
    },
    {
      "cell_type": "code",
      "execution_count": 7,
      "metadata": {
        "id": "N5ewmzejxvd6"
      },
      "outputs": [],
      "source": [
        "## Create a Vehicle class with attributes brand and method start\n",
        "## create s child class Bicycle and Car additional info model and override the start method"
      ]
    },
    {
      "cell_type": "code",
      "execution_count": 8,
      "metadata": {
        "id": "eA8p8kr7xvd6"
      },
      "outputs": [],
      "source": [
        "class Vehicle:\n",
        "  def __init__(self,brand):\n",
        "    self.brand=brand\n",
        "\n",
        "  def start(self):\n",
        "    print(f\"the {self.brand} is starting\")"
      ]
    },
    {
      "cell_type": "code",
      "execution_count": 9,
      "metadata": {
        "id": "oVcwrkZDxvd6"
      },
      "outputs": [],
      "source": [
        "class Bicycle(Vehicle):\n",
        "  def __init__(self,brand,model):\n",
        "    super().__init__(brand)\n",
        "    self.model=model\n",
        "\n",
        "  def start(self):\n",
        "    super().start()\n",
        "    print(f\"the {self.brand} {self.model} is ready to go\")\n",
        "\n",
        "\n"
      ]
    },
    {
      "cell_type": "code",
      "execution_count": 10,
      "metadata": {
        "colab": {
          "base_uri": "https://localhost:8080/"
        },
        "id": "zvyLbGJDxvd7",
        "outputId": "c7add0b1-ad90-4d2b-9832-4f9d5d4e65ed"
      },
      "outputs": [
        {
          "output_type": "stream",
          "name": "stdout",
          "text": [
            "the Hero is starting\n",
            "the Hero Gear is ready to go\n"
          ]
        }
      ],
      "source": [
        "bicycle=Bicycle(\"Hero\",\"Gear\")\n",
        "bicycle.start()"
      ]
    },
    {
      "cell_type": "code",
      "execution_count": 11,
      "metadata": {
        "id": "8hSyGiTRxvd7"
      },
      "outputs": [],
      "source": [
        "# Base class representing an animal\n",
        "class Animal:\n",
        "    def __init__(self, name):\n",
        "        self.name = name\n",
        "\n",
        "    def sound(self):\n",
        "        pass\n",
        "\n",
        "\n",
        "# Derived class representing a dog (hierarchical inheritance)\n",
        "class Dog(Animal):\n",
        "    def __init__(self, name):\n",
        "        super().__init__(name)\n",
        "\n",
        "    def sound(self):\n",
        "        print(f\"{self.name} barks.\")\n",
        "\n",
        "\n",
        "# Derived class representing a cat (hierarchical inheritance)\n",
        "class Cat(Animal):\n",
        "    def __init__(self, name):\n",
        "        super().__init__(name)\n",
        "\n",
        "    def sound(self):\n",
        "        print(f\"{self.name} meows.\")"
      ]
    },
    {
      "cell_type": "code",
      "source": [],
      "metadata": {
        "id": "_PZmlCRR42b0"
      },
      "execution_count": null,
      "outputs": []
    },
    {
      "cell_type": "code",
      "execution_count": null,
      "metadata": {
        "id": "ZakLrf9bxvd7"
      },
      "outputs": [],
      "source": [
        "## Access Modifiers\n",
        "## public,private and protected\n"
      ]
    },
    {
      "cell_type": "markdown",
      "source": [
        "## Public Access Modifier:\n",
        "## The members of a class that are declared public are easily accessible from any part of the program. All data members and member functions of a class are public by default."
      ],
      "metadata": {
        "id": "1mZfw5Lt4hY3"
      }
    },
    {
      "cell_type": "markdown",
      "source": [
        "##Public Access Modifier:\n",
        "Definition: Any variable or method declared in a class is public by default. Public members can be accessed from outside the class, i.e., from any other part of the code, both inside and outside the module.\n",
        "\n",
        "Syntax: Public members are defined without any special symbol or underscore."
      ],
      "metadata": {
        "id": "4C9Dmkz6v_Cg"
      }
    },
    {
      "cell_type": "code",
      "source": [
        "class MyClass:\n",
        "    def __init__(self):\n",
        "        self.name = \"Public Attribute\"  # Public attribute\n",
        "\n",
        "    def display(self):\n",
        "        print(self.name)  # Public method\n",
        "\n",
        "obj = MyClass()\n",
        "print(obj.name)  # Accessing public attribute\n",
        "obj.display()    # Accessing public method\n"
      ],
      "metadata": {
        "colab": {
          "base_uri": "https://localhost:8080/"
        },
        "id": "BSc-1lcAwJhO",
        "outputId": "9080c315-2719-4766-a8d8-b7c93407d167"
      },
      "execution_count": 35,
      "outputs": [
        {
          "output_type": "stream",
          "name": "stdout",
          "text": [
            "Public Attribute\n",
            "Public Attribute\n"
          ]
        }
      ]
    },
    {
      "cell_type": "code",
      "execution_count": 12,
      "metadata": {
        "id": "AWalfxYKxvd7"
      },
      "outputs": [],
      "source": [
        "class Person:\n",
        "  def __init__(self,name,lastname):\n",
        "    self.name=name\n",
        "    self.lastname=lastname\n",
        "\n",
        "  def display(self):\n",
        "    print(f\"the name is {self.name} and last name is {self.lastname}\")\n"
      ]
    },
    {
      "cell_type": "code",
      "execution_count": 13,
      "metadata": {
        "id": "MjDJGD0-xvd7"
      },
      "outputs": [],
      "source": [
        "person1=Person('Mahipal','Singh')"
      ]
    },
    {
      "cell_type": "code",
      "source": [
        "person1.display()"
      ],
      "metadata": {
        "colab": {
          "base_uri": "https://localhost:8080/"
        },
        "id": "ySZKznudxdal",
        "outputId": "dd713566-7632-4fd0-a13b-14852c28e36c"
      },
      "execution_count": 41,
      "outputs": [
        {
          "output_type": "stream",
          "name": "stdout",
          "text": [
            "the name is Mahipal and last name is Singh\n"
          ]
        }
      ]
    },
    {
      "cell_type": "code",
      "execution_count": 14,
      "metadata": {
        "colab": {
          "base_uri": "https://localhost:8080/"
        },
        "id": "z5fzZsyyxvd7",
        "outputId": "5f629f22-d155-45b6-b8fb-1cbe0b0dae6a"
      },
      "outputs": [
        {
          "output_type": "execute_result",
          "data": {
            "text/plain": [
              "['__class__',\n",
              " '__delattr__',\n",
              " '__dict__',\n",
              " '__dir__',\n",
              " '__doc__',\n",
              " '__eq__',\n",
              " '__format__',\n",
              " '__ge__',\n",
              " '__getattribute__',\n",
              " '__gt__',\n",
              " '__hash__',\n",
              " '__init__',\n",
              " '__init_subclass__',\n",
              " '__le__',\n",
              " '__lt__',\n",
              " '__module__',\n",
              " '__ne__',\n",
              " '__new__',\n",
              " '__reduce__',\n",
              " '__reduce_ex__',\n",
              " '__repr__',\n",
              " '__setattr__',\n",
              " '__sizeof__',\n",
              " '__str__',\n",
              " '__subclasshook__',\n",
              " '__weakref__',\n",
              " 'display',\n",
              " 'lastname',\n",
              " 'name']"
            ]
          },
          "metadata": {},
          "execution_count": 14
        }
      ],
      "source": [
        "dir(person1)"
      ]
    },
    {
      "cell_type": "markdown",
      "source": [
        "#Private Access Modifier:\n",
        "Definition: To restrict access to class members, Python uses a naming convention where members are prefixed with a double underscore (__). These members are intended to be private, meaning they are only accessible within the class itself and cannot be accessed directly from outside the class.\n",
        "\n",
        "Syntax: Private members are declared with a double underscore __ prefix."
      ],
      "metadata": {
        "id": "3o2TzZJywTxK"
      }
    },
    {
      "cell_type": "code",
      "source": [
        "class MyClass:\n",
        "    def __init__(self):\n",
        "        self.__private_name = \"Private Attribute\"  # Private attribute\n",
        "\n",
        "    def __private_method(self):  # Private method\n",
        "        print(\"This is a private method\")\n",
        "\n",
        "    def access_private_method(self):\n",
        "        self.__private_method()  # Calling the private method inside the class\n",
        "\n",
        "obj = MyClass()\n",
        "\n",
        "# Trying to access private attribute directly (this will cause an error)\n",
        "# print(obj.__private_name)  # AttributeError: 'MyClass' object has no attribute '__private_name'\n",
        "\n",
        "# Accessing private method using public method\n",
        "obj.access_private_method()  # This works because it's done within the class\n"
      ],
      "metadata": {
        "colab": {
          "base_uri": "https://localhost:8080/"
        },
        "id": "pdbQGRFuwYwQ",
        "outputId": "757bfbdb-066f-4283-c4d9-3805345b2c44"
      },
      "execution_count": 36,
      "outputs": [
        {
          "output_type": "stream",
          "name": "stdout",
          "text": [
            "This is a private method\n"
          ]
        }
      ]
    },
    {
      "cell_type": "code",
      "source": [
        "class_1=MyClass()"
      ],
      "metadata": {
        "id": "UQTc-F6LxSai"
      },
      "execution_count": 39,
      "outputs": []
    },
    {
      "cell_type": "code",
      "source": [
        "class_1.__private_method()"
      ],
      "metadata": {
        "colab": {
          "base_uri": "https://localhost:8080/",
          "height": 141
        },
        "id": "PWftTN-xwzLn",
        "outputId": "f538e0f6-6d03-459e-b87d-1b6791ab9acd"
      },
      "execution_count": 40,
      "outputs": [
        {
          "output_type": "error",
          "ename": "AttributeError",
          "evalue": "'MyClass' object has no attribute '__private_method'",
          "traceback": [
            "\u001b[0;31m---------------------------------------------------------------------------\u001b[0m",
            "\u001b[0;31mAttributeError\u001b[0m                            Traceback (most recent call last)",
            "\u001b[0;32m<ipython-input-40-336ff0d091b9>\u001b[0m in \u001b[0;36m<cell line: 1>\u001b[0;34m()\u001b[0m\n\u001b[0;32m----> 1\u001b[0;31m \u001b[0mclass_1\u001b[0m\u001b[0;34m.\u001b[0m\u001b[0m__private_method\u001b[0m\u001b[0;34m(\u001b[0m\u001b[0;34m)\u001b[0m\u001b[0;34m\u001b[0m\u001b[0;34m\u001b[0m\u001b[0m\n\u001b[0m",
            "\u001b[0;31mAttributeError\u001b[0m: 'MyClass' object has no attribute '__private_method'"
          ]
        }
      ]
    },
    {
      "cell_type": "code",
      "execution_count": null,
      "metadata": {
        "id": "iaZIx-J-xvd7"
      },
      "outputs": [],
      "source": [
        "## Protected Access Modifier"
      ]
    },
    {
      "cell_type": "code",
      "execution_count": 15,
      "metadata": {
        "id": "mbKtlWcVxvd7"
      },
      "outputs": [],
      "source": [
        "# parent class\n",
        "class Student:\n",
        "  # protected attributes\n",
        "  def __init__(self,name,roll):\n",
        "    self._name=name\n",
        "    self._roll=roll\n",
        "\n",
        "  def _display(self):\n",
        "    print(f\" Name is {self._name} and roll number is {self._roll}\")"
      ]
    },
    {
      "cell_type": "code",
      "execution_count": 16,
      "metadata": {
        "id": "exgLeuXexvd7"
      },
      "outputs": [],
      "source": [
        "student=Student(\"Mahipal\",123)"
      ]
    },
    {
      "cell_type": "code",
      "execution_count": 17,
      "metadata": {
        "colab": {
          "base_uri": "https://localhost:8080/"
        },
        "id": "fxFa3UPzxvd8",
        "outputId": "6fd74de6-956b-407a-d1e2-a13fd6c12341"
      },
      "outputs": [
        {
          "output_type": "execute_result",
          "data": {
            "text/plain": [
              "['__class__',\n",
              " '__delattr__',\n",
              " '__dict__',\n",
              " '__dir__',\n",
              " '__doc__',\n",
              " '__eq__',\n",
              " '__format__',\n",
              " '__ge__',\n",
              " '__getattribute__',\n",
              " '__gt__',\n",
              " '__hash__',\n",
              " '__init__',\n",
              " '__init_subclass__',\n",
              " '__le__',\n",
              " '__lt__',\n",
              " '__module__',\n",
              " '__ne__',\n",
              " '__new__',\n",
              " '__reduce__',\n",
              " '__reduce_ex__',\n",
              " '__repr__',\n",
              " '__setattr__',\n",
              " '__sizeof__',\n",
              " '__str__',\n",
              " '__subclasshook__',\n",
              " '__weakref__',\n",
              " '_display',\n",
              " '_name',\n",
              " '_roll']"
            ]
          },
          "metadata": {},
          "execution_count": 17
        }
      ],
      "source": [
        "dir(student)"
      ]
    },
    {
      "cell_type": "markdown",
      "source": [
        "However, it's important to note that Python's private members can still be accessed through name mangling, but it's considered bad practice."
      ],
      "metadata": {
        "id": "-w24cv7zwsDh"
      }
    },
    {
      "cell_type": "code",
      "source": [
        "print(obj._MyClass__private_name)  # Accessing private attribute via name mangling\n"
      ],
      "metadata": {
        "colab": {
          "base_uri": "https://localhost:8080/"
        },
        "id": "TDZCBKe1wrZo",
        "outputId": "d301d7b1-5054-40bd-c7cb-fc072e845a6f"
      },
      "execution_count": 37,
      "outputs": [
        {
          "output_type": "stream",
          "name": "stdout",
          "text": [
            "Private Attribute\n"
          ]
        }
      ]
    },
    {
      "cell_type": "code",
      "execution_count": 18,
      "metadata": {
        "id": "_u2BXL0-xvd8"
      },
      "outputs": [],
      "source": [
        "class Genius(Student):\n",
        "  def __init__(self,name,roll):\n",
        "    super().__init__(name,roll)\n",
        "\n",
        "  def displaydetails(self):\n",
        "    print(f\"Name is :{self._name}\")\n",
        "    self._display()\n",
        "\n"
      ]
    },
    {
      "cell_type": "code",
      "execution_count": 19,
      "metadata": {
        "colab": {
          "base_uri": "https://localhost:8080/"
        },
        "id": "Fa_F1GLvxvd8",
        "outputId": "26431b54-d418-4c6c-8f04-e7e342d9241c"
      },
      "outputs": [
        {
          "output_type": "stream",
          "name": "stdout",
          "text": [
            "Name is :Mahipal\n",
            " Name is Mahipal and roll number is 123\n"
          ]
        }
      ],
      "source": [
        "genius1=Genius(\"Mahipal\",123)\n",
        "genius1.displaydetails()"
      ]
    },
    {
      "cell_type": "code",
      "execution_count": 20,
      "metadata": {
        "colab": {
          "base_uri": "https://localhost:8080/"
        },
        "id": "JCYdCU7kxvd8",
        "outputId": "d96f3de5-2083-4ac6-d68f-34f1701402ff"
      },
      "outputs": [
        {
          "output_type": "execute_result",
          "data": {
            "text/plain": [
              "['__class__',\n",
              " '__delattr__',\n",
              " '__dict__',\n",
              " '__dir__',\n",
              " '__doc__',\n",
              " '__eq__',\n",
              " '__format__',\n",
              " '__ge__',\n",
              " '__getattribute__',\n",
              " '__gt__',\n",
              " '__hash__',\n",
              " '__init__',\n",
              " '__init_subclass__',\n",
              " '__le__',\n",
              " '__lt__',\n",
              " '__module__',\n",
              " '__ne__',\n",
              " '__new__',\n",
              " '__reduce__',\n",
              " '__reduce_ex__',\n",
              " '__repr__',\n",
              " '__setattr__',\n",
              " '__sizeof__',\n",
              " '__str__',\n",
              " '__subclasshook__',\n",
              " '__weakref__',\n",
              " '_display',\n",
              " '_name',\n",
              " '_roll',\n",
              " 'displaydetails']"
            ]
          },
          "metadata": {},
          "execution_count": 20
        }
      ],
      "source": [
        "dir(genius1)"
      ]
    },
    {
      "cell_type": "code",
      "execution_count": 21,
      "metadata": {
        "colab": {
          "base_uri": "https://localhost:8080/"
        },
        "id": "ydLNGtwSxvd8",
        "outputId": "c0058f90-2344-4b8d-8563-f066c7992ca7"
      },
      "outputs": [
        {
          "output_type": "stream",
          "name": "stdout",
          "text": [
            " Name is Mahipal and roll number is 123\n"
          ]
        }
      ],
      "source": [
        "genius1._display()"
      ]
    },
    {
      "cell_type": "code",
      "execution_count": 22,
      "metadata": {
        "id": "XFWDL2hoxvd8"
      },
      "outputs": [],
      "source": [
        "# parent class\n",
        "class Student:\n",
        "  # private attributes\n",
        "  def __init__(self,name,roll):\n",
        "    self.__name=name\n",
        "    self.__roll=roll\n",
        "\n",
        "  def __display(self):\n",
        "    print(f\" Name is {self.__name} and roll number is {self.__roll}\")\n",
        "\n",
        "  def display(self):\n",
        "    self.__display()"
      ]
    },
    {
      "cell_type": "code",
      "source": [
        "class Genius(Student):\n",
        "  def __init__(self,name,roll,subject):\n",
        "    super().__init__(name,roll)\n",
        "    self.subject=subject"
      ],
      "metadata": {
        "id": "XK3OVdaaB5Yg"
      },
      "execution_count": 23,
      "outputs": []
    },
    {
      "cell_type": "code",
      "source": [
        "genius=Genius(\"Mahipal\",123,'AI')"
      ],
      "metadata": {
        "id": "opXSDQMuCIf_"
      },
      "execution_count": 25,
      "outputs": []
    },
    {
      "cell_type": "code",
      "source": [
        "dir(genius)"
      ],
      "metadata": {
        "colab": {
          "base_uri": "https://localhost:8080/"
        },
        "id": "DO_xdcwMCS-0",
        "outputId": "34294969-cdcf-411c-8c99-2b02ec9ec401"
      },
      "execution_count": 26,
      "outputs": [
        {
          "output_type": "execute_result",
          "data": {
            "text/plain": [
              "['_Student__display',\n",
              " '_Student__name',\n",
              " '_Student__roll',\n",
              " '__class__',\n",
              " '__delattr__',\n",
              " '__dict__',\n",
              " '__dir__',\n",
              " '__doc__',\n",
              " '__eq__',\n",
              " '__format__',\n",
              " '__ge__',\n",
              " '__getattribute__',\n",
              " '__gt__',\n",
              " '__hash__',\n",
              " '__init__',\n",
              " '__init_subclass__',\n",
              " '__le__',\n",
              " '__lt__',\n",
              " '__module__',\n",
              " '__ne__',\n",
              " '__new__',\n",
              " '__reduce__',\n",
              " '__reduce_ex__',\n",
              " '__repr__',\n",
              " '__setattr__',\n",
              " '__sizeof__',\n",
              " '__str__',\n",
              " '__subclasshook__',\n",
              " '__weakref__',\n",
              " 'display',\n",
              " 'subject']"
            ]
          },
          "metadata": {},
          "execution_count": 26
        }
      ]
    },
    {
      "cell_type": "code",
      "source": [
        "student1=Student(\"Mahipal\",123)"
      ],
      "metadata": {
        "id": "Jkyoo0XQ-PbW"
      },
      "execution_count": 28,
      "outputs": []
    },
    {
      "cell_type": "code",
      "source": [
        "dir(student1)"
      ],
      "metadata": {
        "colab": {
          "base_uri": "https://localhost:8080/"
        },
        "id": "B19LVUcj-TCj",
        "outputId": "190c5e6c-10c3-45c3-fdbd-9845e95a6c7e"
      },
      "execution_count": 29,
      "outputs": [
        {
          "output_type": "execute_result",
          "data": {
            "text/plain": [
              "['_Student__display',\n",
              " '_Student__name',\n",
              " '_Student__roll',\n",
              " '__class__',\n",
              " '__delattr__',\n",
              " '__dict__',\n",
              " '__dir__',\n",
              " '__doc__',\n",
              " '__eq__',\n",
              " '__format__',\n",
              " '__ge__',\n",
              " '__getattribute__',\n",
              " '__gt__',\n",
              " '__hash__',\n",
              " '__init__',\n",
              " '__init_subclass__',\n",
              " '__le__',\n",
              " '__lt__',\n",
              " '__module__',\n",
              " '__ne__',\n",
              " '__new__',\n",
              " '__reduce__',\n",
              " '__reduce_ex__',\n",
              " '__repr__',\n",
              " '__setattr__',\n",
              " '__sizeof__',\n",
              " '__str__',\n",
              " '__subclasshook__',\n",
              " '__weakref__',\n",
              " 'display']"
            ]
          },
          "metadata": {},
          "execution_count": 29
        }
      ]
    },
    {
      "cell_type": "code",
      "source": [
        "student1._Student__name=\"MahipalS\""
      ],
      "metadata": {
        "id": "0ZJi5w_K-eb1"
      },
      "execution_count": 30,
      "outputs": []
    },
    {
      "cell_type": "code",
      "source": [
        "## Polymorphism\n",
        "## multiple forms\n",
        "\n",
        "class Animal:\n",
        "  def __init__(self,name):\n",
        "    self.name=name\n",
        "\n",
        "  def make_sound(self):\n",
        "    return \"Generic Voice\"\n",
        "\n",
        "class Dog(Animal):\n",
        "\n",
        "  def make_sound(self):\n",
        "    return \"Woof\"\n",
        "\n",
        "class Cat(Animal):\n",
        "    def make_sound(self):\n",
        "        return \"Meow!\"\n",
        "\n"
      ],
      "metadata": {
        "id": "sNYEa93l-XbN"
      },
      "execution_count": 31,
      "outputs": []
    },
    {
      "cell_type": "code",
      "source": [
        "cat=Cat('Tom')\n",
        "\n",
        "cat.make_sound()"
      ],
      "metadata": {
        "colab": {
          "base_uri": "https://localhost:8080/",
          "height": 36
        },
        "id": "fvt8fh6QEE76",
        "outputId": "70448d2a-32f9-499b-aba8-fe4c8cde1f3a"
      },
      "execution_count": 32,
      "outputs": [
        {
          "output_type": "execute_result",
          "data": {
            "text/plain": [
              "'Meow!'"
            ],
            "application/vnd.google.colaboratory.intrinsic+json": {
              "type": "string"
            }
          },
          "metadata": {},
          "execution_count": 32
        }
      ]
    },
    {
      "cell_type": "code",
      "source": [
        "dog=Dog(\"Scooby\")\n",
        "dog.make_sound()"
      ],
      "metadata": {
        "colab": {
          "base_uri": "https://localhost:8080/",
          "height": 36
        },
        "id": "pBwZhe75EpSC",
        "outputId": "cde0587b-3c49-4b9d-d80f-b5927fa70978"
      },
      "execution_count": 33,
      "outputs": [
        {
          "output_type": "execute_result",
          "data": {
            "text/plain": [
              "'Woof'"
            ],
            "application/vnd.google.colaboratory.intrinsic+json": {
              "type": "string"
            }
          },
          "metadata": {},
          "execution_count": 33
        }
      ]
    },
    {
      "cell_type": "code",
      "source": [
        "Animal('generic animal').make_sound()"
      ],
      "metadata": {
        "colab": {
          "base_uri": "https://localhost:8080/",
          "height": 36
        },
        "id": "_zgVCO30FPOA",
        "outputId": "0a3e6790-9625-4ecf-9d28-b4aada2045ef"
      },
      "execution_count": 34,
      "outputs": [
        {
          "output_type": "execute_result",
          "data": {
            "text/plain": [
              "'Generic Voice'"
            ],
            "application/vnd.google.colaboratory.intrinsic+json": {
              "type": "string"
            }
          },
          "metadata": {},
          "execution_count": 34
        }
      ]
    },
    {
      "cell_type": "code",
      "source": [],
      "metadata": {
        "id": "s8NPAfOHFaug"
      },
      "execution_count": null,
      "outputs": []
    },
    {
      "cell_type": "markdown",
      "source": [
        "## Assignments\n",
        "\n",
        "1. the `Person` class has a constructor that takes `name` and `age` as arguments and assigns them to the object's attributes. The `introduce` method is then invoked on the object to introduce the person.\n",
        "\n",
        "2. the `Car` class has a constructor that takes `brand` and `model` as arguments and assigns them to the object's attributes. The `display_info` method is then invoked on the object to display the car's brand and model.\n",
        "\n",
        "3. the `BankAccount` class has a constructor that takes `account_number` and `balance` as arguments and assigns them to the object's attributes. The `display_balance` method is then invoked on the object to display the account number and balance.\n",
        "\n",
        "4.  the `MobilePhone` class has a constructor that takes `brand` and `model` as arguments and assigns them to the object's attributes. The `make_call` method is then invoked on the object to make a call with the phone.\n",
        "\n",
        "5. the `Book` class has a constructor that takes `title` and `author` as arguments and assigns them to the object's attributes. The `display_info` method is then invoked on the object to display the book's title and author.\n",
        "\n",
        "6. Vehicles: Create a base class called Vehicle with attributes such as make, model, and year. Implement two subclasses Car and Motorcycle that inherit from Vehicle. Add additional methods to the subclasses, such as start_engine() and stop_engine(), and handle any specific behavior or rules for each vehicle type.\n",
        "\n",
        "7. Animals: Create a base class called Animal with methods such as eat() and sleep(). Implement two subclasses Dog and Cat that inherit from Animal. Add additional methods to the subclasses, such as bark() for dogs and meow() for cats, and handle any specific behavior or rules for each animal type.\n",
        "\n",
        "8. Library Catalog: Create a base class called LibraryItem with attributes such as title, author, and publication_year. Implement two subclasses Book and Magazine that inherit from LibraryItem. Add additional methods to the subclasses, such as checkout() and return_item(), and handle any specific behavior or rules for each item type.\n",
        "\n",
        "9. Employees and Departments: Create a base class called Employee with attributes such as name, salary, and department. Implement two subclasses Manager and Staff that inherit from Employee. Add additional methods to the subclasses, such as assign_task() for managers and attend_meeting() for staff members. Create a separate class called Department that contains a list of employees and methods to add or remove employees from the department.\n",
        "\n",
        "10. Bank Transactions: Create a base class called BankAccount with attributes such as account_number and balance. Implement subclasses for different types of accounts such as CheckingAccount and SavingsAccount that inherit from BankAccount. Add additional methods to the subclasses, such as withdraw() and deposit(), and handle any specific behavior or rules for each account type.\n",
        "\n",
        "11. School Management System: Create a base class called Person with attributes such as name, age, and address. Implement subclasses for different roles such as Student, Teacher, and Staff that inherit from Person. Add additional methods to the subclasses, such as take_exam() for students and teach_subject() for teachers."
      ],
      "metadata": {
        "id": "MaGV6sJnF3Ix"
      }
    },
    {
      "cell_type": "code",
      "source": [],
      "metadata": {
        "id": "iSFgLL77HCOZ"
      },
      "execution_count": null,
      "outputs": []
    }
  ],
  "metadata": {
    "kernelspec": {
      "display_name": "Python 3",
      "language": "python",
      "name": "python3"
    },
    "language_info": {
      "codemirror_mode": {
        "name": "ipython",
        "version": 3
      },
      "file_extension": ".py",
      "mimetype": "text/x-python",
      "name": "python",
      "nbconvert_exporter": "python",
      "pygments_lexer": "ipython3",
      "version": "3.8.5"
    },
    "colab": {
      "provenance": []
    }
  },
  "nbformat": 4,
  "nbformat_minor": 0
}